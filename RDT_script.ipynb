{
 "cells": [
  {
   "cell_type": "markdown",
   "id": "e9d88e0f",
   "metadata": {
    "heading_collapsed": true
   },
   "source": [
    "# Import statements; input files; arguments for plots"
   ]
  },
  {
   "cell_type": "code",
   "execution_count": 1,
   "id": "805f19ab",
   "metadata": {
    "hidden": true
   },
   "outputs": [],
   "source": [
    "import pandas as pd\n",
    "from matplotlib import pyplot as plt\n",
    "import numpy as np\n",
    "import seaborn as sns\n",
    "from scipy import stats\n",
    "from scipy.stats import ranksums\n",
    "from statannotations.Annotator import Annotator\n",
    "import allel\n",
    "import random\n",
    "from IPython.display import FileLink"
   ]
  },
  {
   "cell_type": "code",
   "execution_count": 2,
   "id": "4b091f90",
   "metadata": {
    "hidden": true
   },
   "outputs": [
    {
     "name": "stderr",
     "output_type": "stream",
     "text": [
      "/Users/jsilbert/opt/miniconda3/lib/python3.9/site-packages/openpyxl/styles/stylesheet.py:226: UserWarning: Workbook contains no default style, apply openpyxl's default\n",
      "  warn(\"Workbook contains no default style, apply openpyxl's default\")\n"
     ]
    }
   ],
   "source": [
    "# input files for clinical study comparison\n",
    "seq_metadata = pd.read_excel(\"seq-metadata.xlsx\")\n",
    "rdt_pcr = pd.read_csv(\"WellResult_qPCRrerun_20221201.csv\")\n",
    "genomes = pd.read_csv('sample_set_entity.tsv',sep='\\t') # also for MPHN2\n",
    "\n",
    "# input files for MPHN2\n",
    "MPHN2_pcr = pd.read_csv('2023-01-04 RDTs MPHN2 qPCR.xlsx - Results.csv',skiprows=40)\n",
    "\n",
    "# input files for synthetic comparisons\n",
    "elution = pd.read_csv(\"2022-07-11 145129 excel.xlsx - Elution_time_results.csv\")\n",
    "buffer = pd.read_csv(\"buffers.csv\",skiprows=50)\n",
    "rotation = pd.read_excel(\"2023-01-31 143709.xls\",skiprows=50)\n",
    "seeding = pd.read_excel(\"2023-02-07 repeat degradation.xlsx\",skiprows=40)\n",
    "KFFcomp = pd.read_excel(\"2023-03-08 Synthetic RDT KFF v Column.xlsx\",sheet_name='Results',skiprows=40)"
   ]
  },
  {
   "cell_type": "code",
   "execution_count": 75,
   "id": "469fbb39",
   "metadata": {
    "hidden": true
   },
   "outputs": [
    {
     "data": {
      "text/plain": [
       "SignificanceResult(statistic=0.9145366931996783, pvalue=1.0064182644228368e-38)"
      ]
     },
     "execution_count": 75,
     "metadata": {},
     "output_type": "execute_result"
    },
    {
     "data": {
      "image/png": "[encoded data removed]",
      "text/plain": [
       "<Figure size 432x288 with 1 Axes>"
      ]
     },
     "metadata": {},
     "output_type": "display_data"
    }
   ],
   "source": [
    "plt.plot(genomes.assembly_length_unambiguous, genomes.assembly_mean_coverage,'.')\n",
    "stats.spearmanr(genomes.assembly_length_unambiguous, genomes.assembly_mean_coverage)"
   ]
  },
  {
   "cell_type": "code",
   "execution_count": 3,
   "id": "c64a89c4",
   "metadata": {
    "hidden": true
   },
   "outputs": [],
   "source": [
    "args_boxplot = {'boxprops':dict(linestyle='-', linewidth=1.5, color='#00145A',fill=None),\n",
    "           'flierprops':dict(marker='o', markersize=2.2, linestyle='none'), \n",
    "           'whiskerprops':dict(color='#00145A'), 'capprops':dict(color='#00145A'),\n",
    "           'medianprops':dict(linewidth=1.5, linestyle='-', color='black') , 'width':0.4}\n",
    "\n",
    "args_stripplot = {'alpha':0.4, 'jitter':0.2, 'size':7, 'hue':\"variable\", 'palette':['grey']}\n",
    "\n",
    "args_scatterplot_2x = {'alpha':0.9, 'hue':\"variable\", 'palette':['grey','black']}"
   ]
  },
  {
   "cell_type": "markdown",
   "id": "034ba89c",
   "metadata": {
    "heading_collapsed": true
   },
   "source": [
    "# Functions used across multiple sections"
   ]
  },
  {
   "cell_type": "markdown",
   "id": "a3d17aea",
   "metadata": {
    "hidden": true
   },
   "source": [
    "Related to statistics"
   ]
  },
  {
   "cell_type": "code",
   "execution_count": 4,
   "id": "3e781abf",
   "metadata": {
    "hidden": true
   },
   "outputs": [],
   "source": [
    "# define statistic (median) for permutation test\n",
    "def statistic(x, y):\n",
    "    return np.median(x) - np.median(y)\n",
    "\n",
    "# function to add in relevant p values for dataframes of \"melted\" style, with 'variable' and 'value' columns\n",
    "def get_pvalues2(df, pairs,wilcoxon=False):\n",
    "    # get pvalues for relevant comparisons in pairs\n",
    "    pvalues = []\n",
    "    df.dropna()\n",
    "    for p in pairs:\n",
    "        a,b = df[df.variable==p[0]][['value']], df[df.variable==p[1]][['value']]\n",
    "        if wilcoxon == True:\n",
    "            pvalues.append(stats.wilcoxon(a,b).pvalue[0])\n",
    "        else:\n",
    "            #pvalues.append(ranksums(a,b,nan_policy='omit').pvalue[0]) \n",
    "            pvalues.append(stats.permutation_test([a,b],statistic).pvalue[0]) \n",
    "    return pvalues\n",
    "\n",
    "# give 95% CI for slope\n",
    "def slope95CI(a,b,text): # compare linear regression between a and b; print text as description\n",
    "    results = stats.linregress(a,b)\n",
    "    print(f'Linregress Results for {text}:\\nslope = {results.slope:.2f}',\\\n",
    "         f'\\nCI = {results.slope-1.96*results.stderr:.2f} to {results.slope+1.96*results.stderr:.2f}',\\\n",
    "         f'\\np = {results.pvalue}\\n')"
   ]
  },
  {
   "cell_type": "markdown",
   "id": "6164cdff",
   "metadata": {
    "hidden": true
   },
   "source": [
    "To clean up PCR results from ThermoFisher"
   ]
  },
  {
   "cell_type": "code",
   "execution_count": 5,
   "id": "d01344ea",
   "metadata": {
    "hidden": true
   },
   "outputs": [],
   "source": [
    "# take median, unless only one triplicate came back positive (in which case Na)\n",
    "def nanmedian(series):\n",
    "    if sum(series.isnull()*1)>1:\n",
    "        return pd.NA\n",
    "    else:\n",
    "        return series.median()\n",
    "    \n",
    "# function to take triplicate Ct results from qPCR, and return median for each sample\n",
    "def PCR_results(df):\n",
    "    # the columns are named differently depending upon how the file was downloaded from thermofisher\n",
    "    sample = 'Sample' if 'Sample' in df.columns else 'Sample Name'\n",
    "    ct = 'Cq' if 'Cq' in df.columns else 'CT'\n",
    "    \n",
    "    # set undetermined to nan, then take \"nanmedian\" (i.e. if 1 triplicate is \"positive\", treat as negative)\n",
    "    df[ct] = df[ct].replace('Undetermined', pd.NA)\n",
    "    aggregation_functions = {sample: 'first', ct: nanmedian}\n",
    "    df = df.groupby(df[sample]).aggregate(aggregation_functions).reset_index(inplace=False,drop=True)\n",
    "    \n",
    "    # set undetermined to 40\n",
    "    df[ct] = df[ct].replace(pd.NA, 40)\n",
    "    \n",
    "    return df"
   ]
  },
  {
   "cell_type": "markdown",
   "id": "bd6c0035",
   "metadata": {
    "hidden": true
   },
   "source": [
    "Related to plotting figures"
   ]
  },
  {
   "cell_type": "code",
   "execution_count": 6,
   "id": "f80df3ab",
   "metadata": {
    "hidden": true
   },
   "outputs": [],
   "source": [
    "# save figure as...\n",
    "def save_figure(figname):\n",
    "    plt.tight_layout()\n",
    "    plt.savefig(figname)"
   ]
  },
  {
   "cell_type": "code",
   "execution_count": 7,
   "id": "8b60f50c",
   "metadata": {
    "hidden": true
   },
   "outputs": [],
   "source": [
    "# add n=XX (number of data points) to box and whisker plots\n",
    "def add_n_XX(df,x,y,order,ax,offset,max=False):\n",
    "    df = df.dropna(subset=[y])\n",
    "    # Calculate number of obs per group & median to position labels\n",
    "    mins = df.groupby([x])[y].min()[order].values\n",
    "    if max==True:\n",
    "        mins = df.groupby([x])[y].max()[order].values\n",
    "    nobs = df[x].value_counts()[order].values\n",
    "    nobs = [str(i) for i in nobs.tolist()]\n",
    "    nobs = [\"n=\" + i for i in nobs]\n",
    "\n",
    "    # Add it to the plot\n",
    "    pos = range(len(nobs))\n",
    "    for tick,label in zip(pos,ax.get_xticklabels()):\n",
    "        ax.text(pos[tick], mins[tick]-offset, nobs[tick], horizontalalignment='center', size='medium')"
   ]
  },
  {
   "cell_type": "markdown",
   "id": "796f6a11",
   "metadata": {
    "hidden": true
   },
   "source": [
    "To save variances for all wilcoxon ranksum tests"
   ]
  },
  {
   "cell_type": "code",
   "execution_count": 8,
   "id": "e4ffc7a0",
   "metadata": {
    "hidden": true
   },
   "outputs": [],
   "source": [
    "# start to save variances for populations compared via wilcoxon\n",
    "df_wilcoxon = pd.DataFrame(columns=['Comparison','Group 1','Group Size (1)','Variance (1)',\\\n",
    "                                    'Group 2','Group Size (2)','Variance (2)'])\n",
    "def save_wilcoxon_variances(comparison_name, df, pairs, df_wilcoxon):\n",
    "    for p in pairs:\n",
    "        tmp0 = df[df.variable==p[0]].dropna(subset=['value'])\n",
    "        tmp1 = df[df.variable==p[1]].dropna(subset=['value'])\n",
    "        df_wilcoxon.loc[len(df_wilcoxon)] = \\\n",
    "        [comparison_name, p[0], len(tmp0), np.var(tmp0.value), p[1], len(tmp1), np.var(tmp1.value)]\n",
    "    return df_wilcoxon"
   ]
  },
  {
   "cell_type": "markdown",
   "id": "4245cd0c",
   "metadata": {},
   "source": [
    "# Cohort 1: clinical study"
   ]
  },
  {
   "cell_type": "markdown",
   "id": "8bfa64bd",
   "metadata": {
    "heading_collapsed": true
   },
   "source": [
    "## Dataframes"
   ]
  },
  {
   "cell_type": "markdown",
   "id": "4079255b",
   "metadata": {
    "hidden": true
   },
   "source": [
    "Clean up seq_metadata table"
   ]
  },
  {
   "cell_type": "code",
   "execution_count": 9,
   "id": "e387504e",
   "metadata": {
    "hidden": true
   },
   "outputs": [],
   "source": [
    "# Two dates were mistyped in the input file\n",
    "seq_metadata.loc[seq_metadata['Test Date']=='2022-08-18','Extraction Date'] = '2022-08-20'\n",
    "seq_metadata.loc[seq_metadata['Test Date']=='2022-08-15','Extraction Date'] = '2022-08-20'\n",
    "\n",
    "# set columns: ID number; Diagnosis date\n",
    "seq_metadata['ID']= seq_metadata['Broad tracking IDs'].squeeze().str.extract(pat = r'(\\d+)').iloc[:,0]\n",
    "seq_metadata.rename(columns={'Enter the date of your positive diagnosis if applicable':'Diagnosis'},inplace=True)\n",
    "\n",
    "# remove 3 individuals who weren't included in analyses\n",
    "seq_metadata = seq_metadata[seq_metadata['Broad tracking IDs'].squeeze().str.contains(pat='^15|02|03')== False]\n"
   ]
  },
  {
   "cell_type": "markdown",
   "id": "e4e6247b",
   "metadata": {
    "hidden": true
   },
   "source": [
    "Clean up rdt_value table"
   ]
  },
  {
   "cell_type": "code",
   "execution_count": 10,
   "id": "8e759a96",
   "metadata": {
    "hidden": true
   },
   "outputs": [
    {
     "name": "stdout",
     "output_type": "stream",
     "text": [
      "11_iH\n",
      "12_iH\n",
      "14_Q2_tube\n"
     ]
    }
   ],
   "source": [
    "# set up with Sample, ID, Cq columns\n",
    "rdt_value = rdt_pcr.copy()\n",
    "rdt_value['Sample'] = rdt_value['Sample'].str.replace('strip','str')\n",
    "rdt_value = PCR_results(rdt_value) # take medians of PCR triplicates\n",
    "rdt_value['ID'] = [s[0:2] for s in rdt_value['Sample']]\n",
    "\n",
    "# Exclude samples with Cts in same batch that were higher than the associated control\n",
    "Ct_04to06 = rdt_value[rdt_value.Sample == '04_05_06_H2O'].Cq.values[0]\n",
    "Ct_11to14 = rdt_value[rdt_value.Sample == '11_12_13_14_H2O'].Cq.values[0]\n",
    "for i in range(len(rdt_value)):\n",
    "    if (rdt_value.ID[i] in ['04','05','06']) and (rdt_value.Cq[i] > Ct_04to06) and (rdt_value.Cq[i] < 40):\n",
    "        rdt_value.loc[i,'Cq'] = np.nan\n",
    "        print(rdt_value.Sample[i])\n",
    "    if (rdt_value.ID[i] in ['11','12','13','14']) and (rdt_value.Cq[i] > Ct_11to14) and (rdt_value.Cq[i] < 40):\n",
    "        rdt_value.loc[i,'Cq'] = np.nan\n",
    "        print(rdt_value.Sample[i])\n",
    "rdt_value.dropna(subset=['Cq'],inplace=True)\n",
    "\n",
    "# Exclude fully negative individuals, and additional samples that were part of PCR test but not part of study\n",
    "rdt_value = rdt_value[rdt_value['Sample'].squeeze().str.contains(pat='^15|02|03|P_')== False]\n",
    "\n",
    "# Exclude non-clinical samples (i.e. PCR standards, water controls)\n",
    "rdt_value = rdt_value[rdt_value['Sample'].str.match(pat='^([0]?[1-9]|1[0-6])\\_[RBQi]')].reset_index(drop=True)\n",
    "rdt_value['ID'] = [s[0:2] for s in rdt_value.Sample]\n",
    "\n",
    "# Categorize test type\n",
    "rdt_value['variable'] = np.nan\n",
    "rdt_value.loc[np.where(rdt_value.Sample.str.contains(pat='Q.*_str'))[0], 'variable'] = 'Quickvue Strip'\n",
    "rdt_value.loc[np.where(rdt_value.Sample.str.contains(pat='B.*_str'))[0], 'variable'] = 'Binax Strip'\n",
    "rdt_value.loc[np.where(rdt_value.Sample.str.contains(pat='_iH'))[0], 'variable'] = 'iHealth'\n",
    "rdt_value.loc[np.where(rdt_value.Sample.str.contains(pat='_R'))[0], 'variable'] = 'PCR Swab'\n",
    "rdt_value.loc[np.where(rdt_value.Sample.str.contains(pat='Q.*_tube'))[0], 'variable'] = 'Quickvue Tube'\n",
    "rdt_value.loc[np.where(rdt_value.Sample.str.contains(pat='B.*_swab'))[0], 'variable'] = 'Binax Swab'"
   ]
  },
  {
   "cell_type": "code",
   "execution_count": 11,
   "id": "256e9520",
   "metadata": {
    "hidden": true
   },
   "outputs": [
    {
     "data": {
      "text/plain": [
       "12"
      ]
     },
     "execution_count": 11,
     "metadata": {},
     "output_type": "execute_result"
    }
   ],
   "source": [
    "len(rdt_value[rdt_value.Cq==40])"
   ]
  },
  {
   "cell_type": "markdown",
   "id": "2f41c6f8",
   "metadata": {
    "hidden": true
   },
   "source": [
    "Compare group order (data frame: df_order) *and* collect each strip's difference from R (data frame: df_total_Cq)"
   ]
  },
  {
   "cell_type": "code",
   "execution_count": 12,
   "id": "f818bf52",
   "metadata": {
    "hidden": true
   },
   "outputs": [],
   "source": [
    "first, second = [], [] # to store first & second test Ct\n",
    "iH, B, Q = [], [], [] # to store each strip's difference from R\n",
    "\n",
    "for ID in rdt_value.ID.unique():\n",
    "    # pull out RDT order from metadata\n",
    "    order = seq_metadata.Group[seq_metadata.ID==ID].values[0][3:].split(',')\n",
    "    # compare group order for all positive individuals who took 2 rapid tests & PCR swab\n",
    "    if sum(rdt_value[rdt_value.ID==ID].Sample.str.contains('r|R|i'))==3:\n",
    "        first.append(rdt_value[rdt_value['Sample'].str.fullmatch(pat=ID+'_'+order[0]+'[^w]*')==True].Cq.values[0])\n",
    "        second.append(rdt_value[rdt_value['Sample'].str.fullmatch(pat=ID+'_'+order[1]+'[^w]*')==True].Cq.values[0])\n",
    "    # look at difference of each strip from R\n",
    "    strips = rdt_value[rdt_value['Sample'].str.match(pat=ID+'.*(str|iH)')==True].reset_index()\n",
    "    R = rdt_value[rdt_value['Sample'].str.match(pat=ID+'.*R')==True].Cq.values[0]\n",
    "    for i in range(len(strips)):\n",
    "        if 'iH' in strips.Sample[i]:\n",
    "            iH.append(strips.Cq[i] - R)\n",
    "        elif 'B' in strips.Sample[i]:\n",
    "            B.append(strips.Cq[i] - R)\n",
    "        else:\n",
    "            Q.append(strips.Cq[i] - R)\n",
    "        \n",
    "df_order = pd.DataFrame({'First':first,'Second':second}).melt()\n",
    "df_total_Cq = pd.DataFrame.from_dict({'iHealth':iH,'Binax':B,'Quickvue':Q,'All':iH+B+Q}, orient='index').T"
   ]
  },
  {
   "cell_type": "markdown",
   "id": "7e36019f",
   "metadata": {
    "hidden": true
   },
   "source": [
    "Create file that combines Ct data with metadata re: diagnosis, test, & extraction dates, merging by ID"
   ]
  },
  {
   "cell_type": "code",
   "execution_count": 13,
   "id": "01ff7165",
   "metadata": {
    "hidden": true
   },
   "outputs": [],
   "source": [
    "dates = pd.merge(seq_metadata,rdt_value,how='right',on='ID')\n",
    "dates = dates[['Diagnosis','Test Date','Extraction Date','ID','Sample','Cq']]\n",
    "\n",
    "# add in date differences for diagnosis to test, test to extraction; & Ct minus Ct of corresponding PCR Swab\n",
    "dates['Days_Diagnosis_Test']  = [d.days for d in (dates['Test Date'] - dates['Diagnosis'])]\n",
    "dates['Days_Test_Extraction'] = [d. days for d in (dates['Extraction Date'] - dates['Test Date'])]\n",
    "dates['R_diff'] = [(dates.Cq[i]-dates[dates.Sample==(dates.ID[i]+'_R')].Cq).values[0] for i in range(len(dates))]\n",
    "\n",
    "# change \"variable\" to be larger categorical groups (i.e. RDT v. PCR, swab v. strip v. tube)\n",
    "dates['variable'] = [s.split('_')[-1] for s in dates.Sample]\n",
    "dates.variable = dates.variable.replace({'str':'Strip','iH':'Strip','R':'Polypropylene Swab'})"
   ]
  },
  {
   "cell_type": "markdown",
   "id": "a4c763a3",
   "metadata": {
    "hidden": true
   },
   "source": [
    "Clean up genomic data frame, and merge with other data frames"
   ]
  },
  {
   "cell_type": "code",
   "execution_count": 14,
   "id": "a97b198c",
   "metadata": {
    "hidden": true,
    "scrolled": false
   },
   "outputs": [
    {
     "name": "stdout",
     "output_type": "stream",
     "text": [
      "04_B1_str\n",
      "04_iH\n",
      "06_Q1_str\n",
      "06_iH\n",
      "13_B1_str\n",
      "13_B2_swab\n",
      "13_Q2_tube\n",
      "14_B1_str\n"
     ]
    }
   ],
   "source": [
    "genome_data_1 = genomes.rename(columns={\"entity:sample_set_id\": \"Sample\"}).copy()\n",
    "genome_data_1['Sample'] = [item[0].replace('strip','str') for item in genome_data_1['Sample'].str.split('.')]\n",
    "\n",
    "# merge with other dataframe to add in Cts\n",
    "genome_data_1 = pd.merge(genome_data_1, rdt_value, how='right', on='Sample')\n",
    "\n",
    "# set negative samples (i.e., Ct=40) to have a genome length of 0\n",
    "genome_data_1.loc[np.where(genome_data_1.Cq==40)[0],'assembly_length_unambiguous'] = np.nan\n",
    "\n",
    "# drop any genomes that are discarded due to being shorter than associated batch extraction control\n",
    "limit04_06 = genomes[genomes['entity:sample_set_id']=='04_05_06_H2O_l_B9'].assembly_length_unambiguous.values[0]\n",
    "limit11_14 = genomes[genomes['entity:sample_set_id']=='11_12_13_14_H2O_l_B11'].assembly_length_unambiguous.values[0]\n",
    "for i in range(len(genome_data_1)):\n",
    "    if genome_data_1.ID[i] in ['04','05','06']:\n",
    "        if genome_data_1.assembly_length_unambiguous[i] < limit04_06:\n",
    "            for column in genomes.columns[1:]:\n",
    "                genome_data_1.loc[i,column] = np.nan\n",
    "            print(genome_data_1.Sample[i])\n",
    "    elif genome_data_1.ID[i] in ['11','12','13','14']:\n",
    "        if genome_data_1.assembly_length_unambiguous[i] < limit11_14:\n",
    "            for column in genomes.columns[1:]:\n",
    "                genome_data_1.loc[i,column] = np.nan\n",
    "            print(genome_data_1.Sample[i])\n",
    "genome_data_1 = genome_data_1.dropna(subset=['assembly_length_unambiguous']).reset_index(drop=True)\n",
    "                \n",
    "# add column for % of genome assembled\n",
    "LENGTH = 29903\n",
    "genome_data_1['Percent'] = genome_data_1['assembly_length_unambiguous']/LENGTH\n",
    "\n",
    "# Strip, PCR Swab, or other\n",
    "genome_data_1['category'] = np.nan\n",
    "genome_data_1.loc[genome_data_1.variable=='PCR Swab','category'] = 'Polypropylene Swab'\n",
    "for strip in ['Quickvue Strip','Binax Strip','iHealth']:\n",
    "    genome_data_1.loc[genome_data_1.variable==strip,'category'] = 'Strip'"
   ]
  },
  {
   "cell_type": "markdown",
   "id": "fabab02c",
   "metadata": {
    "heading_collapsed": true
   },
   "source": [
    "## Box & whisker plots - Ct"
   ]
  },
  {
   "cell_type": "code",
   "execution_count": 15,
   "id": "13784168",
   "metadata": {
    "hidden": true
   },
   "outputs": [],
   "source": [
    "sns.set_style(\"white\")  # \"white\",\"dark\",\"darkgrid\",\"ticks\""
   ]
  },
  {
   "cell_type": "code",
   "execution_count": 16,
   "id": "1036852f",
   "metadata": {
    "hidden": true
   },
   "outputs": [
    {
     "name": "stdout",
     "output_type": "stream",
     "text": [
      "Mean of all strips' difference: 10.15989620995116 \n",
      "\n"
     ]
    },
    {
     "name": "stderr",
     "output_type": "stream",
     "text": [
      "/Users/jsilbert/opt/miniconda3/lib/python3.9/site-packages/statannotations/_Plotter.py:337: UserWarning: Invalid x-position found. Are the same parameters passed to seaborn and statannotations calls? or are there few data points?\n",
      "  warnings.warn(\n",
      "/Users/jsilbert/opt/miniconda3/lib/python3.9/site-packages/statannotations/_Plotter.py:337: UserWarning: Invalid x-position found. Are the same parameters passed to seaborn and statannotations calls? or are there few data points?\n",
      "  warnings.warn(\n"
     ]
    },
    {
     "name": "stdout",
     "output_type": "stream",
     "text": [
      "p-value annotation legend:\n",
      "      ns: p <= 1.00e+00\n",
      "       *: 1.00e-02 < p <= 5.00e-02\n",
      "      **: 1.00e-03 < p <= 1.00e-02\n",
      "     ***: 1.00e-04 < p <= 1.00e-03\n",
      "    ****: p <= 1.00e-04\n",
      "\n",
      "iHealth vs. Binax: Custom statistical test, P_val:5.694e-01\n",
      "Binax vs. Quickvue: Custom statistical test, P_val:7.480e-02\n",
      "iHealth vs. Quickvue: Custom statistical test, P_val:1.319e-01\n"
     ]
    },
    {
     "data": {
      "image/png": "[encoded data removed]",
      "text/plain": [
       "<Figure size 360x360 with 1 Axes>"
      ]
     },
     "metadata": {
      "needs_background": "light"
     },
     "output_type": "display_data"
    }
   ],
   "source": [
    "plt.figure(figsize=[5,5])\n",
    "\n",
    "order = ['All','iHealth','Binax','Quickvue']\n",
    "df=pd.melt(df_total_Cq[order])\n",
    "ax = sns.boxplot(x=\"variable\", y=\"value\", order=order,data=df, **args_boxplot)\n",
    "sns.stripplot(data=pd.melt(df_total_Cq[order]), x=\"variable\", y=\"value\", **args_stripplot)\n",
    "add_n_XX(df,'variable','value',order,ax,offset=-.65,max=True)\n",
    "\n",
    "print('Mean of all strips\\' difference:', df_total_Cq.All.mean(),'\\n')\n",
    "\n",
    "pairs = [['iHealth','Binax'],['iHealth','Quickvue'],['Binax','Quickvue']]\n",
    "annotator = Annotator(ax, pairs,data=pd.melt(df_total_Cq),x='variable',y='value',order=order)\n",
    "annotator.set_pvalues(get_pvalues2(df.dropna(),pairs))\n",
    "annotator.annotate()\n",
    "df_wilcoxon = save_wilcoxon_variances('Ct Difference from PCR', df, pairs, df_wilcoxon)\n",
    "\n",
    "plt.xlabel(\"Test Brand\", fontweight='normal', fontsize=12)\n",
    "plt.ylabel(\"Ct Difference from PCR Swab\", fontweight='normal', fontsize=12) \n",
    "plt.yticks(np.arange(5,25,5))\n",
    "ax.get_legend().remove();\n",
    "save_figure('fig/CT_difference_from_PCR.svg')"
   ]
  },
  {
   "cell_type": "code",
   "execution_count": 17,
   "id": "a8149c06",
   "metadata": {
    "hidden": true
   },
   "outputs": [
    {
     "name": "stderr",
     "output_type": "stream",
     "text": [
      "/Users/jsilbert/opt/miniconda3/lib/python3.9/site-packages/statannotations/_Plotter.py:337: UserWarning: Invalid x-position found. Are the same parameters passed to seaborn and statannotations calls? or are there few data points?\n",
      "  warnings.warn(\n",
      "/Users/jsilbert/opt/miniconda3/lib/python3.9/site-packages/scipy/stats/_morestats.py:3414: UserWarning: Exact p-value calculation does not work if there are zeros. Switching to normal approximation.\n",
      "  warnings.warn(\"Exact p-value calculation does not work if there are \"\n",
      "/Users/jsilbert/opt/miniconda3/lib/python3.9/site-packages/scipy/stats/_morestats.py:3428: UserWarning: Sample size too small for normal approximation.\n",
      "  warnings.warn(\"Sample size too small for normal approximation.\")\n"
     ]
    },
    {
     "name": "stdout",
     "output_type": "stream",
     "text": [
      "p-value annotation legend:\n",
      "      ns: p <= 1.00e+00\n",
      "       *: 1.00e-02 < p <= 5.00e-02\n",
      "      **: 1.00e-03 < p <= 1.00e-02\n",
      "     ***: 1.00e-04 < p <= 1.00e-03\n",
      "    ****: p <= 1.00e-04\n",
      "\n",
      "First vs. Second: Custom statistical test, P_val:2.626e-01\n"
     ]
    },
    {
     "data": {
      "image/png": "[encoded data removed]",
      "text/plain": [
       "<Figure size 360x360 with 1 Axes>"
      ]
     },
     "metadata": {
      "needs_background": "light"
     },
     "output_type": "display_data"
    }
   ],
   "source": [
    "plt.figure(figsize=[5,5])\n",
    "\n",
    "ax = sns.boxplot(x=\"variable\", y=\"value\", data=df_order,**args_boxplot)\n",
    "sns.stripplot(data=df_order, x=\"variable\", y=\"value\",**args_stripplot)\n",
    "add_n_XX(df_order,'variable','value',order=['First','Second'],ax=ax,offset=.5)\n",
    "\n",
    "ax.invert_yaxis()\n",
    "\n",
    "pairs = df_order.variable.unique()\n",
    "annotator = Annotator(ax, [pairs],data=df_order,x='variable',y='value')\n",
    "#annotator.set_pvalues([ranksums(first,second,nan_policy='omit').pvalue])\n",
    "annotator.set_pvalues(get_pvalues2(df_order, [pairs],wilcoxon=True))\n",
    "annotator.annotate()\n",
    "df_wilcoxon = save_wilcoxon_variances('Test Order', df_order, [pairs], df_wilcoxon)\n",
    "\n",
    "plt.xlabel(\"Test Order\", fontweight='normal', fontsize=12)\n",
    "plt.ylabel(\"Ct Values\", fontweight='normal', fontsize=12) \n",
    "plt.legend([],[], frameon=False)\n",
    "\n",
    "save_figure('fig/CT_test_order.svg')"
   ]
  },
  {
   "cell_type": "markdown",
   "id": "fdf3f68c",
   "metadata": {
    "heading_collapsed": true
   },
   "source": [
    "##  Statistics for genome comparisons"
   ]
  },
  {
   "cell_type": "code",
   "execution_count": 18,
   "id": "246e1888",
   "metadata": {
    "hidden": true
   },
   "outputs": [],
   "source": [
    "# return relevant statistics in terms of how many samples had Cts, complete genomes, etc\n",
    "\n",
    "# update dataframes with columns that will enable groupby() analyses\n",
    "rdt_value['Ct<40'] = [g<40 for g in rdt_value.Cq]\n",
    "genome_data_1['Ct<40'] = [g<40 for g in genome_data_1.Cq]\n",
    "genomes_no40 = genome_data_1[genome_data_1['Ct<40']]\n",
    "genomes_no40['Percent>80'] = [g>.8 for g in genomes_no40.Percent]\n",
    "genomes_no40['Percent>10'] = [g>.10 for g in genomes_no40.Percent]\n",
    "\n",
    "# calculate the various stats we want\n",
    "genome_stats = pd.DataFrame({# Number & percent of samples with viral material, & total samples\n",
    "                            'NumberPositive':rdt_value.groupby('variable').sum()['Ct<40'],\\\n",
    "                            'NumberSamples':rdt_value.groupby('variable').count()['Cq'],\\\n",
    "                            # Ct range of positive samples, and mean\n",
    "                            'MinCt':rdt_value.groupby('variable').min()['Cq'],\\\n",
    "                            'MaxCt':rdt_value[rdt_value.Cq<40].groupby('variable').max()['Cq'],\\\n",
    "                            'MeanCt':rdt_value[rdt_value.Cq<40].groupby('variable').mean()['Cq'],\\\n",
    "                            # Number of sequenced samples; number & percent of samples with complete genomes\n",
    "                            'NumberSequenced':genomes_no40.groupby('variable').count()['Cq'],\\\n",
    "                            'NumberComplete':genomes_no40.groupby('variable').sum()['Percent>80'],\\\n",
    "                            'PercentComplete':genomes_no40.groupby('variable').mean()['Percent>80'],\\\n",
    "                            'NumPartial':genomes_no40.groupby('variable').sum()['Percent>10'],\\\n",
    "                            # Average percent of genome covered, for positive samples\n",
    "                            'AveragePercent':genomes_no40.groupby('variable').mean()['Percent'],\\\n",
    "                            # Average depth, for positive samples\n",
    "                            'AverageDepth':genomes_no40.groupby('variable').mean()['assembly_mean_coverage']})\n",
    "genome_stats['PercentWithCt'] = genome_stats['NumberPositive'] / genome_stats['NumberSamples'] * 100\n",
    "# update any percent stats to be from 0-100 instead of 0-1\n",
    "for percent in ['PercentComplete','AveragePercent']:\n",
    "    genome_stats[percent] = (genome_stats[percent]*100)\n",
    "# round all numbers to have only one decimal point\n",
    "genome_stats = genome_stats.round(decimals=1)"
   ]
  },
  {
   "cell_type": "code",
   "execution_count": 19,
   "id": "84c10842",
   "metadata": {
    "hidden": true
   },
   "outputs": [
    {
     "data": {
      "text/html": [
       "<div>\n",
       "<style scoped>\n",
       "    .dataframe tbody tr th:only-of-type {\n",
       "        vertical-align: middle;\n",
       "    }\n",
       "\n",
       "    .dataframe tbody tr th {\n",
       "        vertical-align: top;\n",
       "    }\n",
       "\n",
       "    .dataframe thead th {\n",
       "        text-align: right;\n",
       "    }\n",
       "</style>\n",
       "<table border=\"1\" class=\"dataframe\">\n",
       "  <thead>\n",
       "    <tr style=\"text-align: right;\">\n",
       "      <th></th>\n",
       "      <th>NumberPositive</th>\n",
       "      <th>NumberSamples</th>\n",
       "      <th>MinCt</th>\n",
       "      <th>MaxCt</th>\n",
       "      <th>MeanCt</th>\n",
       "      <th>NumberSequenced</th>\n",
       "      <th>NumberComplete</th>\n",
       "      <th>PercentComplete</th>\n",
       "      <th>NumPartial</th>\n",
       "      <th>AveragePercent</th>\n",
       "      <th>AverageDepth</th>\n",
       "      <th>PercentWithCt</th>\n",
       "    </tr>\n",
       "    <tr>\n",
       "      <th>variable</th>\n",
       "      <th></th>\n",
       "      <th></th>\n",
       "      <th></th>\n",
       "      <th></th>\n",
       "      <th></th>\n",
       "      <th></th>\n",
       "      <th></th>\n",
       "      <th></th>\n",
       "      <th></th>\n",
       "      <th></th>\n",
       "      <th></th>\n",
       "      <th></th>\n",
       "    </tr>\n",
       "  </thead>\n",
       "  <tbody>\n",
       "    <tr>\n",
       "      <th>PCR Swab</th>\n",
       "      <td>13</td>\n",
       "      <td>13</td>\n",
       "      <td>17.8</td>\n",
       "      <td>31.7</td>\n",
       "      <td>23.7</td>\n",
       "      <td>13</td>\n",
       "      <td>13</td>\n",
       "      <td>100.0</td>\n",
       "      <td>13</td>\n",
       "      <td>97.2</td>\n",
       "      <td>18463.2</td>\n",
       "      <td>100.0</td>\n",
       "    </tr>\n",
       "    <tr>\n",
       "      <th>Binax Strip</th>\n",
       "      <td>5</td>\n",
       "      <td>9</td>\n",
       "      <td>27.6</td>\n",
       "      <td>33.8</td>\n",
       "      <td>30.3</td>\n",
       "      <td>2</td>\n",
       "      <td>0</td>\n",
       "      <td>0.0</td>\n",
       "      <td>1</td>\n",
       "      <td>22.8</td>\n",
       "      <td>44259.2</td>\n",
       "      <td>55.6</td>\n",
       "    </tr>\n",
       "    <tr>\n",
       "      <th>Binax Swab</th>\n",
       "      <td>8</td>\n",
       "      <td>9</td>\n",
       "      <td>19.5</td>\n",
       "      <td>33.0</td>\n",
       "      <td>26.0</td>\n",
       "      <td>7</td>\n",
       "      <td>3</td>\n",
       "      <td>42.9</td>\n",
       "      <td>6</td>\n",
       "      <td>66.9</td>\n",
       "      <td>18257.6</td>\n",
       "      <td>88.9</td>\n",
       "    </tr>\n",
       "    <tr>\n",
       "      <th>Quickvue Strip</th>\n",
       "      <td>6</td>\n",
       "      <td>8</td>\n",
       "      <td>25.8</td>\n",
       "      <td>35.2</td>\n",
       "      <td>29.6</td>\n",
       "      <td>5</td>\n",
       "      <td>2</td>\n",
       "      <td>40.0</td>\n",
       "      <td>4</td>\n",
       "      <td>66.0</td>\n",
       "      <td>21249.5</td>\n",
       "      <td>75.0</td>\n",
       "    </tr>\n",
       "    <tr>\n",
       "      <th>Quickvue Tube</th>\n",
       "      <td>2</td>\n",
       "      <td>6</td>\n",
       "      <td>31.2</td>\n",
       "      <td>33.3</td>\n",
       "      <td>32.2</td>\n",
       "      <td>1</td>\n",
       "      <td>1</td>\n",
       "      <td>100.0</td>\n",
       "      <td>1</td>\n",
       "      <td>93.0</td>\n",
       "      <td>5006.7</td>\n",
       "      <td>33.3</td>\n",
       "    </tr>\n",
       "    <tr>\n",
       "      <th>iHealth</th>\n",
       "      <td>5</td>\n",
       "      <td>6</td>\n",
       "      <td>30.8</td>\n",
       "      <td>34.3</td>\n",
       "      <td>33.2</td>\n",
       "      <td>3</td>\n",
       "      <td>0</td>\n",
       "      <td>0.0</td>\n",
       "      <td>2</td>\n",
       "      <td>43.6</td>\n",
       "      <td>7487.0</td>\n",
       "      <td>83.3</td>\n",
       "    </tr>\n",
       "  </tbody>\n",
       "</table>\n",
       "</div>"
      ],
      "text/plain": [
       "                NumberPositive  NumberSamples  MinCt  MaxCt  MeanCt  \\\n",
       "variable                                                              \n",
       "PCR Swab                    13             13   17.8   31.7    23.7   \n",
       "Binax Strip                  5              9   27.6   33.8    30.3   \n",
       "Binax Swab                   8              9   19.5   33.0    26.0   \n",
       "Quickvue Strip               6              8   25.8   35.2    29.6   \n",
       "Quickvue Tube                2              6   31.2   33.3    32.2   \n",
       "iHealth                      5              6   30.8   34.3    33.2   \n",
       "\n",
       "                NumberSequenced  NumberComplete  PercentComplete  NumPartial  \\\n",
       "variable                                                                       \n",
       "PCR Swab                     13              13            100.0          13   \n",
       "Binax Strip                   2               0              0.0           1   \n",
       "Binax Swab                    7               3             42.9           6   \n",
       "Quickvue Strip                5               2             40.0           4   \n",
       "Quickvue Tube                 1               1            100.0           1   \n",
       "iHealth                       3               0              0.0           2   \n",
       "\n",
       "                AveragePercent  AverageDepth  PercentWithCt  \n",
       "variable                                                     \n",
       "PCR Swab                  97.2       18463.2          100.0  \n",
       "Binax Strip               22.8       44259.2           55.6  \n",
       "Binax Swab                66.9       18257.6           88.9  \n",
       "Quickvue Strip            66.0       21249.5           75.0  \n",
       "Quickvue Tube             93.0        5006.7           33.3  \n",
       "iHealth                   43.6        7487.0           83.3  "
      ]
     },
     "execution_count": 19,
     "metadata": {},
     "output_type": "execute_result"
    }
   ],
   "source": [
    "genome_stats.reindex(['PCR Swab','Binax Strip','Binax Swab','Quickvue Strip','Quickvue Tube','iHealth'])"
   ]
  },
  {
   "cell_type": "code",
   "execution_count": 20,
   "id": "ec6e4536",
   "metadata": {
    "hidden": true
   },
   "outputs": [
    {
     "data": {
      "text/html": [
       "<div>\n",
       "<style scoped>\n",
       "    .dataframe tbody tr th:only-of-type {\n",
       "        vertical-align: middle;\n",
       "    }\n",
       "\n",
       "    .dataframe tbody tr th {\n",
       "        vertical-align: top;\n",
       "    }\n",
       "\n",
       "    .dataframe thead th {\n",
       "        text-align: right;\n",
       "    }\n",
       "</style>\n",
       "<table border=\"1\" class=\"dataframe\">\n",
       "  <thead>\n",
       "    <tr style=\"text-align: right;\">\n",
       "      <th></th>\n",
       "      <th>R_clade</th>\n",
       "      <th>R_pango</th>\n",
       "      <th>Str_clade</th>\n",
       "      <th>Str_pango</th>\n",
       "      <th>Clade</th>\n",
       "      <th>Pango</th>\n",
       "    </tr>\n",
       "  </thead>\n",
       "  <tbody>\n",
       "    <tr>\n",
       "      <th>01</th>\n",
       "      <td>22B</td>\n",
       "      <td>BA.5.2.1</td>\n",
       "      <td>[22B, 22B]</td>\n",
       "      <td>[Unassigned, Unassigned]</td>\n",
       "      <td>True</td>\n",
       "      <td>False</td>\n",
       "    </tr>\n",
       "    <tr>\n",
       "      <th>04</th>\n",
       "      <td>22D</td>\n",
       "      <td>BA.2.75.2</td>\n",
       "      <td>[22D]</td>\n",
       "      <td>[Unassigned]</td>\n",
       "      <td>True</td>\n",
       "      <td>False</td>\n",
       "    </tr>\n",
       "    <tr>\n",
       "      <th>05</th>\n",
       "      <td>22B</td>\n",
       "      <td>BF.21</td>\n",
       "      <td>[]</td>\n",
       "      <td>[]</td>\n",
       "      <td>False</td>\n",
       "      <td>False</td>\n",
       "    </tr>\n",
       "    <tr>\n",
       "      <th>06</th>\n",
       "      <td>22B</td>\n",
       "      <td>BF.27</td>\n",
       "      <td>[22B]</td>\n",
       "      <td>[BF.27]</td>\n",
       "      <td>True</td>\n",
       "      <td>True</td>\n",
       "    </tr>\n",
       "    <tr>\n",
       "      <th>07</th>\n",
       "      <td>22B</td>\n",
       "      <td>BA.5.2.1</td>\n",
       "      <td>[22B, recombinant]</td>\n",
       "      <td>[BA.5.2.1, Unassigned]</td>\n",
       "      <td>True</td>\n",
       "      <td>True</td>\n",
       "    </tr>\n",
       "    <tr>\n",
       "      <th>08</th>\n",
       "      <td>22A</td>\n",
       "      <td>BA.4.6</td>\n",
       "      <td>[22A]</td>\n",
       "      <td>[BA.4.6]</td>\n",
       "      <td>True</td>\n",
       "      <td>True</td>\n",
       "    </tr>\n",
       "    <tr>\n",
       "      <th>09</th>\n",
       "      <td>22B</td>\n",
       "      <td>BA.5.2</td>\n",
       "      <td>[nan, recombinant, recombinant]</td>\n",
       "      <td>[nan, Unassigned, Unassigned]</td>\n",
       "      <td>False</td>\n",
       "      <td>False</td>\n",
       "    </tr>\n",
       "    <tr>\n",
       "      <th>10</th>\n",
       "      <td>22B</td>\n",
       "      <td>BE.1.1</td>\n",
       "      <td>[22B, 22B, 22B]</td>\n",
       "      <td>[Unassigned, BE.1.1, Unassigned]</td>\n",
       "      <td>True</td>\n",
       "      <td>True</td>\n",
       "    </tr>\n",
       "    <tr>\n",
       "      <th>11</th>\n",
       "      <td>22B</td>\n",
       "      <td>BE.1.1</td>\n",
       "      <td>[]</td>\n",
       "      <td>[]</td>\n",
       "      <td>False</td>\n",
       "      <td>False</td>\n",
       "    </tr>\n",
       "    <tr>\n",
       "      <th>12</th>\n",
       "      <td>22B</td>\n",
       "      <td>BF.26</td>\n",
       "      <td>[22B]</td>\n",
       "      <td>[BF.26]</td>\n",
       "      <td>True</td>\n",
       "      <td>True</td>\n",
       "    </tr>\n",
       "    <tr>\n",
       "      <th>13</th>\n",
       "      <td>22A</td>\n",
       "      <td>BA.4.6</td>\n",
       "      <td>[22A]</td>\n",
       "      <td>[BA.4.6]</td>\n",
       "      <td>True</td>\n",
       "      <td>True</td>\n",
       "    </tr>\n",
       "    <tr>\n",
       "      <th>14</th>\n",
       "      <td>22A</td>\n",
       "      <td>BA.4.6</td>\n",
       "      <td>[22A, 22A]</td>\n",
       "      <td>[BA.4.6, BA.4.6]</td>\n",
       "      <td>True</td>\n",
       "      <td>True</td>\n",
       "    </tr>\n",
       "    <tr>\n",
       "      <th>16</th>\n",
       "      <td>22B</td>\n",
       "      <td>BA.5.2</td>\n",
       "      <td>[22B]</td>\n",
       "      <td>[Unassigned]</td>\n",
       "      <td>True</td>\n",
       "      <td>False</td>\n",
       "    </tr>\n",
       "  </tbody>\n",
       "</table>\n",
       "</div>"
      ],
      "text/plain": [
       "   R_clade    R_pango                        Str_clade  \\\n",
       "01     22B   BA.5.2.1                       [22B, 22B]   \n",
       "04     22D  BA.2.75.2                            [22D]   \n",
       "05     22B      BF.21                               []   \n",
       "06     22B      BF.27                            [22B]   \n",
       "07     22B   BA.5.2.1               [22B, recombinant]   \n",
       "08     22A     BA.4.6                            [22A]   \n",
       "09     22B     BA.5.2  [nan, recombinant, recombinant]   \n",
       "10     22B     BE.1.1                  [22B, 22B, 22B]   \n",
       "11     22B     BE.1.1                               []   \n",
       "12     22B      BF.26                            [22B]   \n",
       "13     22A     BA.4.6                            [22A]   \n",
       "14     22A     BA.4.6                       [22A, 22A]   \n",
       "16     22B     BA.5.2                            [22B]   \n",
       "\n",
       "                           Str_pango  Clade  Pango  \n",
       "01          [Unassigned, Unassigned]   True  False  \n",
       "04                      [Unassigned]   True  False  \n",
       "05                                []  False  False  \n",
       "06                           [BF.27]   True   True  \n",
       "07            [BA.5.2.1, Unassigned]   True   True  \n",
       "08                          [BA.4.6]   True   True  \n",
       "09     [nan, Unassigned, Unassigned]  False  False  \n",
       "10  [Unassigned, BE.1.1, Unassigned]   True   True  \n",
       "11                                []  False  False  \n",
       "12                           [BF.26]   True   True  \n",
       "13                          [BA.4.6]   True   True  \n",
       "14                  [BA.4.6, BA.4.6]   True   True  \n",
       "16                      [Unassigned]   True  False  "
      ]
     },
     "metadata": {},
     "output_type": "display_data"
    },
    {
     "name": "stdout",
     "output_type": "stream",
     "text": [
      "Clade    10\n",
      "Pango     7\n",
      "dtype: object\n",
      "Clade    0.769231\n",
      "Pango    0.538462\n",
      "dtype: object\n"
     ]
    }
   ],
   "source": [
    "# for which samples could clade/lineage be accurately predicted by RDTs without PCR swab?\n",
    "lineages = pd.DataFrame(index=genomes_no40.ID.unique(), \\\n",
    "                        columns=['R_clade','R_pango','Str_clade','Str_pango','Clade','Pango'])\n",
    "for i in lineages.index:\n",
    "    lineages['R_clade'].loc[i] = genomes_no40[genomes_no40.Sample==(i+\"_R\")].nextclade_clade.values[0]\n",
    "    lineages['R_pango'].loc[i] = genomes_no40[genomes_no40.Sample==(i+\"_R\")].pango_lineage.values[0]\n",
    "    lineages['Str_clade'].loc[i] = genomes_no40[genomes_no40.Sample.str.contains(pat=i+'_.*[^R]')].nextclade_clade.values\n",
    "    lineages['Str_pango'].loc[i] = genomes_no40[genomes_no40.Sample.str.contains(pat=i+'_.*[^R]')].pango_lineage.values\n",
    "    lineages['Clade'].loc[i] = lineages.R_clade[i] in lineages.Str_clade[i] \n",
    "    lineages['Pango'].loc[i] = lineages.R_pango[i] in lineages.Str_pango[i] \n",
    "\n",
    "display(lineages)\n",
    "print(lineages[['Clade','Pango']].sum())\n",
    "print(lineages[['Clade','Pango']].sum()/13)"
   ]
  },
  {
   "cell_type": "code",
   "execution_count": 21,
   "id": "97142ce5",
   "metadata": {
    "hidden": true
   },
   "outputs": [
    {
     "name": "stdout",
     "output_type": "stream",
     "text": [
      "_iH \n",
      " nextclade_clade    2\n",
      "pango_lineage      0\n",
      "dtype: int64 total: 3 \n",
      "\n",
      "Q.*_str \n",
      " nextclade_clade    4\n",
      "pango_lineage      3\n",
      "dtype: int64 total: 5 \n",
      "\n",
      "Q.*_tube \n",
      " nextclade_clade    1\n",
      "pango_lineage      1\n",
      "dtype: int64 total: 1 \n",
      "\n",
      "B.*_str \n",
      " nextclade_clade    1\n",
      "pango_lineage      0\n",
      "dtype: int64 total: 2 \n",
      "\n",
      "B.*_swab \n",
      " nextclade_clade    6\n",
      "pango_lineage      4\n",
      "dtype: int64 total: 7 \n",
      "\n"
     ]
    }
   ],
   "source": [
    "# Above analysis but for each individual strip\n",
    "df = genomes_no40.set_index(genomes_no40.Sample)\n",
    "\n",
    "for pattern in ['_iH','Q.*_str','Q.*_tube','B.*_str', 'B.*_swab']:\n",
    "    strip = df[df.Sample.str.contains(pat=pattern)].Sample.values\n",
    "    swab = [i[0:2]+\"_R\" for i in strip]\n",
    "    df.loc[[s for s in df.Sample if (s in strip) or (s in swab)]][['nextclade_clade', 'pango_lineage']]\n",
    "    df1 = df.loc[[s for s in df.Sample if s in strip]][['nextclade_clade', 'pango_lineage']].reset_index(drop=True)\n",
    "    df2 = df.loc[[s for s in df.Sample if s in swab]][['nextclade_clade', 'pango_lineage']].reset_index(drop=True)\n",
    "    print(pattern, '\\n', (df1 == df2).sum(),'total:',len(df1),'\\n')"
   ]
  },
  {
   "cell_type": "code",
   "execution_count": 22,
   "id": "630a5243",
   "metadata": {
    "hidden": true
   },
   "outputs": [
    {
     "data": {
      "text/html": [
       "<div>\n",
       "<style scoped>\n",
       "    .dataframe tbody tr th:only-of-type {\n",
       "        vertical-align: middle;\n",
       "    }\n",
       "\n",
       "    .dataframe tbody tr th {\n",
       "        vertical-align: top;\n",
       "    }\n",
       "\n",
       "    .dataframe thead th {\n",
       "        text-align: right;\n",
       "    }\n",
       "</style>\n",
       "<table border=\"1\" class=\"dataframe\">\n",
       "  <thead>\n",
       "    <tr style=\"text-align: right;\">\n",
       "      <th></th>\n",
       "      <th>R_clade</th>\n",
       "      <th>R_pango</th>\n",
       "      <th>Str_clade</th>\n",
       "      <th>Str_pango</th>\n",
       "      <th>Clade</th>\n",
       "      <th>Pango</th>\n",
       "    </tr>\n",
       "  </thead>\n",
       "  <tbody>\n",
       "    <tr>\n",
       "      <th>01</th>\n",
       "      <td>22B</td>\n",
       "      <td>BA.5.2.1</td>\n",
       "      <td>[22B, 22B]</td>\n",
       "      <td>[Unassigned, Unassigned]</td>\n",
       "      <td>True</td>\n",
       "      <td>False</td>\n",
       "    </tr>\n",
       "    <tr>\n",
       "      <th>04</th>\n",
       "      <td>22D</td>\n",
       "      <td>BA.2.75.2</td>\n",
       "      <td>[22D]</td>\n",
       "      <td>[Unassigned]</td>\n",
       "      <td>True</td>\n",
       "      <td>False</td>\n",
       "    </tr>\n",
       "    <tr>\n",
       "      <th>05</th>\n",
       "      <td>22B</td>\n",
       "      <td>BF.21</td>\n",
       "      <td>[]</td>\n",
       "      <td>[]</td>\n",
       "      <td>False</td>\n",
       "      <td>False</td>\n",
       "    </tr>\n",
       "    <tr>\n",
       "      <th>06</th>\n",
       "      <td>22B</td>\n",
       "      <td>BF.27</td>\n",
       "      <td>[22B]</td>\n",
       "      <td>[BF.27]</td>\n",
       "      <td>True</td>\n",
       "      <td>True</td>\n",
       "    </tr>\n",
       "    <tr>\n",
       "      <th>07</th>\n",
       "      <td>22B</td>\n",
       "      <td>BA.5.2.1</td>\n",
       "      <td>[22B, recombinant]</td>\n",
       "      <td>[BA.5.2.1, Unassigned]</td>\n",
       "      <td>True</td>\n",
       "      <td>True</td>\n",
       "    </tr>\n",
       "    <tr>\n",
       "      <th>08</th>\n",
       "      <td>22A</td>\n",
       "      <td>BA.4.6</td>\n",
       "      <td>[22A]</td>\n",
       "      <td>[BA.4.6]</td>\n",
       "      <td>True</td>\n",
       "      <td>True</td>\n",
       "    </tr>\n",
       "    <tr>\n",
       "      <th>09</th>\n",
       "      <td>22B</td>\n",
       "      <td>BA.5.2</td>\n",
       "      <td>[nan, recombinant, recombinant]</td>\n",
       "      <td>[nan, Unassigned, Unassigned]</td>\n",
       "      <td>False</td>\n",
       "      <td>False</td>\n",
       "    </tr>\n",
       "    <tr>\n",
       "      <th>10</th>\n",
       "      <td>22B</td>\n",
       "      <td>BE.1.1</td>\n",
       "      <td>[22B, 22B, 22B]</td>\n",
       "      <td>[Unassigned, BE.1.1, Unassigned]</td>\n",
       "      <td>True</td>\n",
       "      <td>True</td>\n",
       "    </tr>\n",
       "    <tr>\n",
       "      <th>11</th>\n",
       "      <td>22B</td>\n",
       "      <td>BE.1.1</td>\n",
       "      <td>[]</td>\n",
       "      <td>[]</td>\n",
       "      <td>False</td>\n",
       "      <td>False</td>\n",
       "    </tr>\n",
       "    <tr>\n",
       "      <th>12</th>\n",
       "      <td>22B</td>\n",
       "      <td>BF.26</td>\n",
       "      <td>[22B]</td>\n",
       "      <td>[BF.26]</td>\n",
       "      <td>True</td>\n",
       "      <td>True</td>\n",
       "    </tr>\n",
       "    <tr>\n",
       "      <th>13</th>\n",
       "      <td>22A</td>\n",
       "      <td>BA.4.6</td>\n",
       "      <td>[22A]</td>\n",
       "      <td>[BA.4.6]</td>\n",
       "      <td>True</td>\n",
       "      <td>True</td>\n",
       "    </tr>\n",
       "    <tr>\n",
       "      <th>14</th>\n",
       "      <td>22A</td>\n",
       "      <td>BA.4.6</td>\n",
       "      <td>[22A, 22A]</td>\n",
       "      <td>[BA.4.6, BA.4.6]</td>\n",
       "      <td>True</td>\n",
       "      <td>True</td>\n",
       "    </tr>\n",
       "    <tr>\n",
       "      <th>16</th>\n",
       "      <td>22B</td>\n",
       "      <td>BA.5.2</td>\n",
       "      <td>[22B]</td>\n",
       "      <td>[Unassigned]</td>\n",
       "      <td>True</td>\n",
       "      <td>False</td>\n",
       "    </tr>\n",
       "  </tbody>\n",
       "</table>\n",
       "</div>"
      ],
      "text/plain": [
       "   R_clade    R_pango                        Str_clade  \\\n",
       "01     22B   BA.5.2.1                       [22B, 22B]   \n",
       "04     22D  BA.2.75.2                            [22D]   \n",
       "05     22B      BF.21                               []   \n",
       "06     22B      BF.27                            [22B]   \n",
       "07     22B   BA.5.2.1               [22B, recombinant]   \n",
       "08     22A     BA.4.6                            [22A]   \n",
       "09     22B     BA.5.2  [nan, recombinant, recombinant]   \n",
       "10     22B     BE.1.1                  [22B, 22B, 22B]   \n",
       "11     22B     BE.1.1                               []   \n",
       "12     22B      BF.26                            [22B]   \n",
       "13     22A     BA.4.6                            [22A]   \n",
       "14     22A     BA.4.6                       [22A, 22A]   \n",
       "16     22B     BA.5.2                            [22B]   \n",
       "\n",
       "                           Str_pango  Clade  Pango  \n",
       "01          [Unassigned, Unassigned]   True  False  \n",
       "04                      [Unassigned]   True  False  \n",
       "05                                []  False  False  \n",
       "06                           [BF.27]   True   True  \n",
       "07            [BA.5.2.1, Unassigned]   True   True  \n",
       "08                          [BA.4.6]   True   True  \n",
       "09     [nan, Unassigned, Unassigned]  False  False  \n",
       "10  [Unassigned, BE.1.1, Unassigned]   True   True  \n",
       "11                                []  False  False  \n",
       "12                           [BF.26]   True   True  \n",
       "13                          [BA.4.6]   True   True  \n",
       "14                  [BA.4.6, BA.4.6]   True   True  \n",
       "16                      [Unassigned]   True  False  "
      ]
     },
     "metadata": {},
     "output_type": "display_data"
    },
    {
     "name": "stdout",
     "output_type": "stream",
     "text": [
      "Clade    10\n",
      "Pango     7\n",
      "dtype: object\n",
      "Clade    0.769231\n",
      "Pango    0.538462\n",
      "dtype: object\n"
     ]
    }
   ],
   "source": [
    "# Above analysis for iHealth strip only\n",
    "lineages = pd.DataFrame(index=genomes_no40.ID.unique(), \\\n",
    "                        columns=['R_clade','R_pango','Str_clade','Str_pango','Clade','Pango'])\n",
    "for i in lineages.index:\n",
    "    lineages['R_clade'].loc[i] = genomes_no40[genomes_no40.Sample==(i+\"_R\")].nextclade_clade.values[0]\n",
    "    lineages['R_pango'].loc[i] = genomes_no40[genomes_no40.Sample==(i+\"_R\")].pango_lineage.values[0]\n",
    "    lineages['Str_clade'].loc[i] = genomes_no40[genomes_no40.Sample.str.contains(pat=i+'_.*[^R]')].nextclade_clade.values\n",
    "    lineages['Str_pango'].loc[i] = genomes_no40[genomes_no40.Sample.str.contains(pat=i+'_.*[^R]')].pango_lineage.values\n",
    "    lineages['Clade'].loc[i] = lineages.R_clade[i] in lineages.Str_clade[i] \n",
    "    lineages['Pango'].loc[i] = lineages.R_pango[i] in lineages.Str_pango[i] \n",
    "\n",
    "display(lineages)\n",
    "print(lineages[['Clade','Pango']].sum())\n",
    "print(lineages[['Clade','Pango']].sum()/13)"
   ]
  },
  {
   "cell_type": "code",
   "execution_count": 23,
   "id": "ea0f93d3",
   "metadata": {
    "hidden": true
   },
   "outputs": [
    {
     "data": {
      "text/html": [
       "<div>\n",
       "<style scoped>\n",
       "    .dataframe tbody tr th:only-of-type {\n",
       "        vertical-align: middle;\n",
       "    }\n",
       "\n",
       "    .dataframe tbody tr th {\n",
       "        vertical-align: top;\n",
       "    }\n",
       "\n",
       "    .dataframe thead th {\n",
       "        text-align: right;\n",
       "    }\n",
       "</style>\n",
       "<table border=\"1\" class=\"dataframe\">\n",
       "  <thead>\n",
       "    <tr style=\"text-align: right;\">\n",
       "      <th></th>\n",
       "      <th>Sample</th>\n",
       "      <th>nextclade_clade</th>\n",
       "      <th>pango_lineage</th>\n",
       "    </tr>\n",
       "  </thead>\n",
       "  <tbody>\n",
       "    <tr>\n",
       "      <th>0</th>\n",
       "      <td>01_B1_swab</td>\n",
       "      <td>22B</td>\n",
       "      <td>Unassigned</td>\n",
       "    </tr>\n",
       "    <tr>\n",
       "      <th>1</th>\n",
       "      <td>01_Q2_str</td>\n",
       "      <td>22B</td>\n",
       "      <td>Unassigned</td>\n",
       "    </tr>\n",
       "    <tr>\n",
       "      <th>2</th>\n",
       "      <td>01_R</td>\n",
       "      <td>22B</td>\n",
       "      <td>BA.5.2.1</td>\n",
       "    </tr>\n",
       "    <tr>\n",
       "      <th>3</th>\n",
       "      <td>04_B2_swab</td>\n",
       "      <td>22D</td>\n",
       "      <td>Unassigned</td>\n",
       "    </tr>\n",
       "    <tr>\n",
       "      <th>4</th>\n",
       "      <td>04_R</td>\n",
       "      <td>22D</td>\n",
       "      <td>BA.2.75.2</td>\n",
       "    </tr>\n",
       "    <tr>\n",
       "      <th>5</th>\n",
       "      <td>05_R</td>\n",
       "      <td>22B</td>\n",
       "      <td>BF.21</td>\n",
       "    </tr>\n",
       "    <tr>\n",
       "      <th>6</th>\n",
       "      <td>06_Q2_tube</td>\n",
       "      <td>22B</td>\n",
       "      <td>BF.27</td>\n",
       "    </tr>\n",
       "    <tr>\n",
       "      <th>7</th>\n",
       "      <td>06_R</td>\n",
       "      <td>22B</td>\n",
       "      <td>BF.27</td>\n",
       "    </tr>\n",
       "    <tr>\n",
       "      <th>8</th>\n",
       "      <td>07_B2_swab</td>\n",
       "      <td>22B</td>\n",
       "      <td>BA.5.2.1</td>\n",
       "    </tr>\n",
       "    <tr>\n",
       "      <th>9</th>\n",
       "      <td>07_Q1_str</td>\n",
       "      <td>recombinant</td>\n",
       "      <td>Unassigned</td>\n",
       "    </tr>\n",
       "    <tr>\n",
       "      <th>10</th>\n",
       "      <td>07_R</td>\n",
       "      <td>22B</td>\n",
       "      <td>BA.5.2.1</td>\n",
       "    </tr>\n",
       "    <tr>\n",
       "      <th>11</th>\n",
       "      <td>08_B2_swab</td>\n",
       "      <td>22A</td>\n",
       "      <td>BA.4.6</td>\n",
       "    </tr>\n",
       "    <tr>\n",
       "      <th>12</th>\n",
       "      <td>08_R</td>\n",
       "      <td>22A</td>\n",
       "      <td>BA.4.6</td>\n",
       "    </tr>\n",
       "    <tr>\n",
       "      <th>13</th>\n",
       "      <td>09_B1_str</td>\n",
       "      <td>NaN</td>\n",
       "      <td>NaN</td>\n",
       "    </tr>\n",
       "    <tr>\n",
       "      <th>14</th>\n",
       "      <td>09_B2_swab</td>\n",
       "      <td>recombinant</td>\n",
       "      <td>Unassigned</td>\n",
       "    </tr>\n",
       "    <tr>\n",
       "      <th>15</th>\n",
       "      <td>09_R</td>\n",
       "      <td>22B</td>\n",
       "      <td>BA.5.2</td>\n",
       "    </tr>\n",
       "    <tr>\n",
       "      <th>16</th>\n",
       "      <td>09_iH</td>\n",
       "      <td>recombinant</td>\n",
       "      <td>Unassigned</td>\n",
       "    </tr>\n",
       "    <tr>\n",
       "      <th>17</th>\n",
       "      <td>10_B1_str</td>\n",
       "      <td>22B</td>\n",
       "      <td>Unassigned</td>\n",
       "    </tr>\n",
       "    <tr>\n",
       "      <th>18</th>\n",
       "      <td>10_B2_swab</td>\n",
       "      <td>22B</td>\n",
       "      <td>BE.1.1</td>\n",
       "    </tr>\n",
       "    <tr>\n",
       "      <th>19</th>\n",
       "      <td>10_R</td>\n",
       "      <td>22B</td>\n",
       "      <td>BE.1.1</td>\n",
       "    </tr>\n",
       "    <tr>\n",
       "      <th>20</th>\n",
       "      <td>10_iH</td>\n",
       "      <td>22B</td>\n",
       "      <td>Unassigned</td>\n",
       "    </tr>\n",
       "    <tr>\n",
       "      <th>21</th>\n",
       "      <td>11_R</td>\n",
       "      <td>22B</td>\n",
       "      <td>BE.1.1</td>\n",
       "    </tr>\n",
       "    <tr>\n",
       "      <th>22</th>\n",
       "      <td>12_Q1_str</td>\n",
       "      <td>22B</td>\n",
       "      <td>BF.26</td>\n",
       "    </tr>\n",
       "    <tr>\n",
       "      <th>23</th>\n",
       "      <td>12_R</td>\n",
       "      <td>22B</td>\n",
       "      <td>BF.26</td>\n",
       "    </tr>\n",
       "    <tr>\n",
       "      <th>24</th>\n",
       "      <td>13_Q1_str</td>\n",
       "      <td>22A</td>\n",
       "      <td>BA.4.6</td>\n",
       "    </tr>\n",
       "    <tr>\n",
       "      <th>25</th>\n",
       "      <td>13_R</td>\n",
       "      <td>22A</td>\n",
       "      <td>BA.4.6</td>\n",
       "    </tr>\n",
       "    <tr>\n",
       "      <th>26</th>\n",
       "      <td>14_B2_swab</td>\n",
       "      <td>22A</td>\n",
       "      <td>BA.4.6</td>\n",
       "    </tr>\n",
       "    <tr>\n",
       "      <th>27</th>\n",
       "      <td>14_Q1_str</td>\n",
       "      <td>22A</td>\n",
       "      <td>BA.4.6</td>\n",
       "    </tr>\n",
       "    <tr>\n",
       "      <th>28</th>\n",
       "      <td>14_R</td>\n",
       "      <td>22A</td>\n",
       "      <td>BA.4.6</td>\n",
       "    </tr>\n",
       "    <tr>\n",
       "      <th>29</th>\n",
       "      <td>16_R</td>\n",
       "      <td>22B</td>\n",
       "      <td>BA.5.2</td>\n",
       "    </tr>\n",
       "    <tr>\n",
       "      <th>30</th>\n",
       "      <td>16_iH</td>\n",
       "      <td>22B</td>\n",
       "      <td>Unassigned</td>\n",
       "    </tr>\n",
       "  </tbody>\n",
       "</table>\n",
       "</div>"
      ],
      "text/plain": [
       "        Sample nextclade_clade pango_lineage\n",
       "0   01_B1_swab             22B    Unassigned\n",
       "1    01_Q2_str             22B    Unassigned\n",
       "2         01_R             22B      BA.5.2.1\n",
       "3   04_B2_swab             22D    Unassigned\n",
       "4         04_R             22D     BA.2.75.2\n",
       "5         05_R             22B         BF.21\n",
       "6   06_Q2_tube             22B         BF.27\n",
       "7         06_R             22B         BF.27\n",
       "8   07_B2_swab             22B      BA.5.2.1\n",
       "9    07_Q1_str     recombinant    Unassigned\n",
       "10        07_R             22B      BA.5.2.1\n",
       "11  08_B2_swab             22A        BA.4.6\n",
       "12        08_R             22A        BA.4.6\n",
       "13   09_B1_str             NaN           NaN\n",
       "14  09_B2_swab     recombinant    Unassigned\n",
       "15        09_R             22B        BA.5.2\n",
       "16       09_iH     recombinant    Unassigned\n",
       "17   10_B1_str             22B    Unassigned\n",
       "18  10_B2_swab             22B        BE.1.1\n",
       "19        10_R             22B        BE.1.1\n",
       "20       10_iH             22B    Unassigned\n",
       "21        11_R             22B        BE.1.1\n",
       "22   12_Q1_str             22B         BF.26\n",
       "23        12_R             22B         BF.26\n",
       "24   13_Q1_str             22A        BA.4.6\n",
       "25        13_R             22A        BA.4.6\n",
       "26  14_B2_swab             22A        BA.4.6\n",
       "27   14_Q1_str             22A        BA.4.6\n",
       "28        14_R             22A        BA.4.6\n",
       "29        16_R             22B        BA.5.2\n",
       "30       16_iH             22B    Unassigned"
      ]
     },
     "execution_count": 23,
     "metadata": {},
     "output_type": "execute_result"
    }
   ],
   "source": [
    "genomes_no40[['Sample','nextclade_clade','pango_lineage']]"
   ]
  },
  {
   "cell_type": "markdown",
   "id": "f2fa1ab0",
   "metadata": {
    "heading_collapsed": true
   },
   "source": [
    "## Gender and age distributions"
   ]
  },
  {
   "cell_type": "code",
   "execution_count": 24,
   "id": "561a11c7",
   "metadata": {
    "hidden": true
   },
   "outputs": [
    {
     "data": {
      "image/png": "[encoded data removed]",
      "text/plain": [
       "<Figure size 360x360 with 1 Axes>"
      ]
     },
     "metadata": {
      "needs_background": "light"
     },
     "output_type": "display_data"
    }
   ],
   "source": [
    "## Gender and age demographics\n",
    "plt.figure(figsize=[5,5])\n",
    "\n",
    "sns.set_style(\"white\") \n",
    "gender_dist = sns.countplot(x=seq_metadata['What is your gender?'],color='darkblue', alpha=0.4,edgecolor='black')\n",
    "\n",
    "plt.xlabel(\"Gender\", fontweight='normal', fontsize=12)\n",
    "plt.ylabel(\"Count\", fontweight='normal', fontsize=12)\n",
    "\n",
    "save_figure('fig/cohort1_gender.svg')"
   ]
  },
  {
   "cell_type": "code",
   "execution_count": 25,
   "id": "4c04656c",
   "metadata": {
    "hidden": true
   },
   "outputs": [
    {
     "name": "stderr",
     "output_type": "stream",
     "text": [
      "/Users/jsilbert/opt/miniconda3/lib/python3.9/site-packages/seaborn/distributions.py:2619: FutureWarning: `distplot` is a deprecated function and will be removed in a future version. Please adapt your code to use either `displot` (a figure-level function with similar flexibility) or `histplot` (an axes-level function for histograms).\n",
      "  warnings.warn(msg, FutureWarning)\n"
     ]
    },
    {
     "data": {
      "image/png": "[encoded data removed]",
      "text/plain": [
       "<Figure size 360x360 with 1 Axes>"
      ]
     },
     "metadata": {},
     "output_type": "display_data"
    }
   ],
   "source": [
    "plt.figure(figsize=[5,5])\n",
    "\n",
    "age_dist = sns.distplot(x=seq_metadata['What is your age in years?'], hist=True, kde=False, \n",
    "             bins=int(30/5), color = 'darkblue', hist_kws={'edgecolor':'black'})\n",
    "plt.xlabel(\"Age\", fontweight='normal', fontsize=12)\n",
    "plt.ylabel(\"Count\", fontweight='normal', fontsize=12)\n",
    "\n",
    "save_figure('fig/cohort1_age.svg')"
   ]
  },
  {
   "cell_type": "markdown",
   "id": "95121b37",
   "metadata": {
    "heading_collapsed": true
   },
   "source": [
    "## iSNV analyses comparing RDTs and PCRs"
   ]
  },
  {
   "cell_type": "code",
   "execution_count": 26,
   "id": "f52e0265",
   "metadata": {
    "hidden": true
   },
   "outputs": [],
   "source": [
    "# function to remove / mask known sites that are unreliable per ampseq methods\n",
    "prob_sites = allel.vcf_to_dataframe('problematic_sites_sarsCov2.vcf',fields=['POS','FILTER'])\n",
    "def masked_vcf(filename):\n",
    "    df = allel.vcf_to_dataframe(filename, fields=['POS','ALT','AF','SB'])\n",
    "    if df is None:\n",
    "        return df\n",
    "    problematic_sites = prob_sites.POS[prob_sites.FILTER_mask==True].values\n",
    "    return df[[i not in problematic_sites for i in df.POS]].reset_index(drop=True)\n",
    "\n",
    "# function to add columns to mark sites as 1) SNV (>50%) v. iSNV (<50%) & 2) >0 strand bias or AF<3%\n",
    "def mark_sites(df):\n",
    "    df['SNV'] = np.array(df.AF_1>=.5)\n",
    "    df['exclude'] = np.array(df.AF_1<.03) | np.array(df.SB>0)\n",
    "    return df\n",
    "\n",
    "# return dataframe for individual coverage plot (txt file); only return locations with DP>0 (or other value)\n",
    "def cleaned_cov(filename, DP=100):\n",
    "    df = pd.read_csv(filename, sep='\\t', header=None, names=['Ref','POS','DP'])\n",
    "    return df[df.DP>DP].reset_index(drop=True)\n",
    "\n",
    "# return counts of SNVs (or iSNVs) in following order, for a given set of PCR v. RDT comparison:\n",
    "# 0: number of (i)SNVs to include for PCR swab\n",
    "# 1: number of (i)SNVs to exclude for PCR swab\n",
    "# 2: number of (i)SNVs in RDT that are concordant with PCR\n",
    "# 3: number of (i)SNVs in RDT that were discordant with PCR\n",
    "# 4: number of (i)SNVs in RDT to exclude for RDT\n",
    "def SNV_counts(df_PCR_lim, df_RDT_lim, iSNV=False):\n",
    "    to_return = np.zeros(5)\n",
    "    # limit to either SNVs or iSNVs\n",
    "    if iSNV==False:\n",
    "        df_PCR_lim = df_PCR_lim[df_PCR_lim.SNV == True]\n",
    "        df_RDT_lim = df_RDT_lim[df_RDT_lim.SNV == True]\n",
    "    else:\n",
    "        # check first if any iSNVs are consensus-level in the other...\n",
    "        for i in range(len(df_PCR_lim)):\n",
    "            if ~df_PCR_lim.exclude[i]: # included in analysis...\n",
    "                if df_PCR_lim.SNV[i] == False: # and is iSNV...\n",
    "                    if df_PCR_lim.POS[i] in df_RDT_lim.POS.values: # and POS is in both...\n",
    "                        print(df_PCR_lim.POS[i])\n",
    "                    \n",
    "        df_PCR_lim = df_PCR_lim[df_PCR_lim.SNV == False]\n",
    "        df_RDT_lim = df_RDT_lim[df_RDT_lim.SNV == False]\n",
    "    \n",
    "    # pull out PCR numbers\n",
    "    to_return[0] = sum(~df_PCR_lim.exclude) # 0: number of (i)SNVs to include for PCR swab\n",
    "    to_return[1] = sum(df_PCR_lim.exclude) # 1: number of (i)SNVs to exclude for PCR swab\n",
    "    to_return[4] = sum(df_RDT_lim.exclude) # 4: number of (i)SNVs in RDT to exclude for RDT\n",
    "    df_RDT_lim = df_RDT_lim[~df_RDT_lim.exclude].reset_index(drop=True)\n",
    "    df_PCR_lim = df_PCR_lim[~df_PCR_lim.exclude].reset_index(drop=True)\n",
    "    SNVs_PCR = set([str(df_PCR_lim.POS[a])+df_PCR_lim.ALT_1[a] for a in range(len(df_PCR_lim))])\n",
    "    SNVs_RDT = set([str(df_RDT_lim.POS[a])+df_RDT_lim.ALT_1[a] for a in range(len(df_RDT_lim))])\n",
    "    to_return[2] = len(SNVs_PCR & SNVs_RDT) # 2: number of (i)SNVs in RDT that are concordant with PCR\n",
    "    to_return[3] = len(SNVs_RDT) - to_return[2] # 3: number of (i)SNVs in RDT that were discordant with PCR\n",
    "    \n",
    "    return to_return"
   ]
  },
  {
   "cell_type": "code",
   "execution_count": 27,
   "id": "e187e52f",
   "metadata": {
    "hidden": true
   },
   "outputs": [],
   "source": [
    "# curate all vcf files, all coverage_plot.txt files (dataframe with filename, Sample name, patient ID)\n",
    "vcf_files, cov_files = pd.DataFrame(), pd.DataFrame()\n",
    "vcf_files['filename'] = !ls ../vcf/*.vcf\n",
    "cov_files['filename'] = !ls ../covplot/*.txt\n",
    "\n",
    "for i, df in enumerate([vcf_files, cov_files]): # add in columns for Sample name & patient ID\n",
    "    df['Sample'] = [i[2].split('.')[0].replace('strip','str') for i in df.filename.str.split('/')]\n",
    "    df['ID'] = [s[0:2] for s in df.Sample]\n",
    "    \n",
    "# limit to files that were actually sequenced, and that have more than one sample per individual; cohort #1 only\n",
    "vcf_files = vcf_files[[s in list(genome_data_1[genome_data_1.Percent>0].Sample) for s in vcf_files.Sample]]\n",
    "cov_files = cov_files[[s in list(genome_data_1[genome_data_1.Percent>0].Sample) for s in cov_files.Sample]]\n",
    "vcf_files = vcf_files[[ID not in vcf_files.ID.unique()[vcf_files.groupby('ID').count()['Sample']==1] \\\n",
    "         for ID in vcf_files.ID]].reset_index(drop=True)\n",
    "cov_files = cov_files[[ID not in cov_files.ID.unique()[cov_files.groupby('ID').count()['Sample']==1] \\\n",
    "         for ID in cov_files.ID]].reset_index(drop=True)"
   ]
  },
  {
   "cell_type": "code",
   "execution_count": 28,
   "id": "84505dec",
   "metadata": {
    "hidden": true
   },
   "outputs": [
    {
     "name": "stdout",
     "output_type": "stream",
     "text": [
      "5950\n"
     ]
    }
   ],
   "source": [
    "# initialize dataframe in which counts of SNVs will be stored\n",
    "df_counts = pd.DataFrame(columns=['PCR_include','PCR_exclude',\\\n",
    "                               'RDT_concord','RDT_discord','RDT_exclude'],\\\n",
    "                         index = ['SNV_RDT_tube','iSNV_RDT_tube',\\\n",
    "                                 'SNV_RDT_strip','iSNV_RDT_strip',\\\n",
    "                                 'SNV_RDT_swab','iSNV_RDT_swab'],\\\n",
    "                         data=0)\n",
    "\n",
    "# cycle through all PCR v. RDT comparisons, pausing on each PCR and comparing it to its corresponding RDTs\n",
    "# start by pulling out each PCR sample\n",
    "for _, row in vcf_files[vcf_files.filename.str.contains('_R')].iterrows():\n",
    "    f, Sample_PCR, ID = row\n",
    "    df_PCR = masked_vcf(f) # process PCR vcf file, while masking unreliable sites\n",
    "    df_PCR = mark_sites(df_PCR) # mark sites as SNV (>50%) v. iSNV (<50%); also as >0 SB or AF <3%\n",
    "    cov_PCR = cleaned_cov(cov_files[cov_files.Sample==Sample_PCR].filename.values[0]) # coverage plot\n",
    "    \n",
    "    # for loop to cycle through comparing the above PCR file to corresponding RDT files:\n",
    "    for _, row in vcf_files[vcf_files.ID==ID].iterrows():    \n",
    "        # repeat same process above from PCR for RDT\n",
    "        rdt, Sample, _ = row\n",
    "        if Sample != Sample_PCR:\n",
    "            df_RDT = masked_vcf(rdt)\n",
    "            if df_RDT is not None:\n",
    "                df_RDT = mark_sites(df_RDT) \n",
    "                cov_RDT = cleaned_cov(cov_files[cov_files.Sample==Sample].filename.values[0])\n",
    "\n",
    "                # what component of RDT? 0=buffer/tube, 1=strip, 2=swab\n",
    "                RDT_comp = ('s' in Sample)*1 + ('i' in Sample)*1 + ('w' in Sample)*1\n",
    "\n",
    "                # use coverage_plot.txt to limit analysis to regions of shared coverage\n",
    "                shared = set(cov_PCR.POS) & set(cov_RDT.POS)\n",
    "                df_PCR_lim = df_PCR[df_PCR.POS.isin(shared)].reset_index(drop=True)\n",
    "                df_RDT_lim = df_RDT[df_RDT.POS.isin(shared)].reset_index(drop=True)\n",
    "                \n",
    "                # also drop if it's dropped due to SB in the other one...\n",
    "                for i in range(len(df_PCR_lim)):\n",
    "                    if df_PCR_lim.SB[i]>0:\n",
    "                        if df_PCR_lim.POS[i] in df_RDT_lim.POS.values:\n",
    "                            df_RDT_lim.loc[df_RDT_lim.POS==df_PCR_lim.POS[i],'exclude']=True\n",
    "\n",
    "                for i in range(len(df_RDT_lim)):\n",
    "                    if df_RDT_lim.SB[i]>0:\n",
    "                        if df_RDT_lim.POS[i] in df_PCR_lim.POS.values:\n",
    "                            df_PCR_lim.loc[df_PCR_lim.POS==df_RDT_lim.POS[i],'exclude']=True\n",
    "\n",
    "                # add counts to df_counts dataframe, in appropriate positions\n",
    "                df_counts.iloc[RDT_comp*2] += SNV_counts(df_PCR_lim, df_RDT_lim, iSNV=False)\n",
    "                df_counts.iloc[RDT_comp*2+1] += SNV_counts(df_PCR_lim, df_RDT_lim, iSNV=True)"
   ]
  },
  {
   "cell_type": "code",
   "execution_count": 29,
   "id": "5467e1a3",
   "metadata": {
    "hidden": true
   },
   "outputs": [
    {
     "data": {
      "text/plain": [
       "Text(0.5, 1.0, 'SNVs')"
      ]
     },
     "execution_count": 29,
     "metadata": {},
     "output_type": "execute_result"
    },
    {
     "data": {
      "image/png": "[encoded data removed]",
      "text/plain": [
       "<Figure size 432x288 with 1 Axes>"
      ]
     },
     "metadata": {},
     "output_type": "display_data"
    }
   ],
   "source": [
    "width, space = .25, .02\n",
    "\n",
    "for i,label in enumerate(['SNV_RDT_swab','SNV_RDT_strip','SNV_RDT_tube']):\n",
    "    plt.bar(i-width/2-space,df_counts.PCR_include[label]+df_counts.PCR_exclude[label],\\\n",
    "            color='white',edgecolor='gray',width=width,label='Low-quality SNVs excluded from analyses')\n",
    "    plt.bar(i-width/2-space,df_counts.PCR_include[label],\\\n",
    "            color='k',edgecolor='k',width=width,label='High-quality SNVs from PCR swab')\n",
    "    plt.bar(i+width/2+space,df_counts.RDT_concord[label]+df_counts.RDT_discord[label]+\\\n",
    "            df_counts.RDT_exclude[label],\\\n",
    "           color='white',edgecolor='gray',width=width)\n",
    "    plt.bar(i+width/2+space,df_counts.RDT_concord[label]+df_counts.RDT_discord[label],\\\n",
    "           color='gray',edgecolor='gray',width=width,label='SNVs in RDT not seen in PCR')\n",
    "    plt.bar(i+width/2+space,df_counts.RDT_concord[label],\\\n",
    "           color='k',edgecolor='k',width=width)\n",
    "\n",
    "plt.xticks(ticks=[0-width/2-space,0+width/2+space,1-width/2-space,\\\n",
    "                  1+width/2+space,2-width/2-space,2+width/2+space],\\\n",
    "           labels=['PCR','RDT\\nswab','PCR','RDT\\nstrip','PCR','RDT\\ntube']);\n",
    "h, l = plt.gca().get_legend_handles_labels()\n",
    "plt.legend(h[0:3], l[0:3])\n",
    "plt.title('SNVs')"
   ]
  },
  {
   "cell_type": "code",
   "execution_count": 30,
   "id": "f157b205",
   "metadata": {
    "hidden": true
   },
   "outputs": [
    {
     "data": {
      "text/plain": [
       "Text(0.5, 1.0, 'iSNVs')"
      ]
     },
     "execution_count": 30,
     "metadata": {},
     "output_type": "execute_result"
    },
    {
     "data": {
      "image/png": "[encoded data removed]",
      "text/plain": [
       "<Figure size 432x288 with 1 Axes>"
      ]
     },
     "metadata": {},
     "output_type": "display_data"
    }
   ],
   "source": [
    "width, space = .25, .02\n",
    "\n",
    "for i,label in enumerate(['iSNV_RDT_swab','iSNV_RDT_strip','iSNV_RDT_tube']):\n",
    "    plt.bar(i-width/2-space,df_counts.PCR_include[label]+df_counts.PCR_exclude[label],\\\n",
    "            color='white',edgecolor='gray',width=width,label='Low-quality SNVs excluded from analyses')\n",
    "    plt.bar(i-width/2-space,df_counts.PCR_include[label],\\\n",
    "            color='k',edgecolor='k',width=width,label='High-quality SNVs from PCR swab')\n",
    "    plt.bar(i+width/2+space,df_counts.RDT_concord[label]+df_counts.RDT_discord[label]+\\\n",
    "            df_counts.RDT_exclude[label],\\\n",
    "           color='white',edgecolor='gray',width=width)\n",
    "    plt.bar(i+width/2+space,df_counts.RDT_concord[label]+df_counts.RDT_discord[label],\\\n",
    "           color='gray',edgecolor='gray',width=width,label='SNVs in RDT not seen in PCR')\n",
    "    plt.bar(i+width/2+space,df_counts.RDT_concord[label],\\\n",
    "           color='k',edgecolor='k',width=width)\n",
    "\n",
    "plt.xticks(ticks=[0-width/2-space,0+width/2+space,1-width/2-space,\\\n",
    "                  1+width/2+space,2-width/2-space,2+width/2+space],\\\n",
    "           labels=['PCR','RDT\\nswab','PCR','RDT\\nstrip','PCR','RDT\\ntube']);\n",
    "\n",
    "h, l = plt.gca().get_legend_handles_labels()\n",
    "plt.legend(h[0:3], l[0:3])\n",
    "plt.title('iSNVs')"
   ]
  },
  {
   "cell_type": "code",
   "execution_count": 31,
   "id": "02d43f81",
   "metadata": {
    "hidden": true
   },
   "outputs": [
    {
     "data": {
      "text/html": [
       "<div>\n",
       "<style scoped>\n",
       "    .dataframe tbody tr th:only-of-type {\n",
       "        vertical-align: middle;\n",
       "    }\n",
       "\n",
       "    .dataframe tbody tr th {\n",
       "        vertical-align: top;\n",
       "    }\n",
       "\n",
       "    .dataframe thead th {\n",
       "        text-align: right;\n",
       "    }\n",
       "</style>\n",
       "<table border=\"1\" class=\"dataframe\">\n",
       "  <thead>\n",
       "    <tr style=\"text-align: right;\">\n",
       "      <th></th>\n",
       "      <th>PCR_include</th>\n",
       "      <th>RDT_concord</th>\n",
       "      <th>RDT_discord</th>\n",
       "      <th>Concordancy</th>\n",
       "    </tr>\n",
       "  </thead>\n",
       "  <tbody>\n",
       "    <tr>\n",
       "      <th>SNV_RDT_swab</th>\n",
       "      <td>115</td>\n",
       "      <td>115</td>\n",
       "      <td>0</td>\n",
       "      <td>100.000000</td>\n",
       "    </tr>\n",
       "    <tr>\n",
       "      <th>SNV_RDT_strip</th>\n",
       "      <td>151</td>\n",
       "      <td>151</td>\n",
       "      <td>4</td>\n",
       "      <td>97.419355</td>\n",
       "    </tr>\n",
       "    <tr>\n",
       "      <th>SNV_RDT_tube</th>\n",
       "      <td>19</td>\n",
       "      <td>19</td>\n",
       "      <td>0</td>\n",
       "      <td>100.000000</td>\n",
       "    </tr>\n",
       "    <tr>\n",
       "      <th>iSNV_RDT_swab</th>\n",
       "      <td>7</td>\n",
       "      <td>1</td>\n",
       "      <td>8</td>\n",
       "      <td>6.666667</td>\n",
       "    </tr>\n",
       "    <tr>\n",
       "      <th>iSNV_RDT_strip</th>\n",
       "      <td>3</td>\n",
       "      <td>0</td>\n",
       "      <td>7</td>\n",
       "      <td>0.000000</td>\n",
       "    </tr>\n",
       "    <tr>\n",
       "      <th>iSNV_RDT_tube</th>\n",
       "      <td>0</td>\n",
       "      <td>0</td>\n",
       "      <td>4</td>\n",
       "      <td>0.000000</td>\n",
       "    </tr>\n",
       "  </tbody>\n",
       "</table>\n",
       "</div>"
      ],
      "text/plain": [
       "                PCR_include  RDT_concord  RDT_discord  Concordancy\n",
       "SNV_RDT_swab            115          115            0   100.000000\n",
       "SNV_RDT_strip           151          151            4    97.419355\n",
       "SNV_RDT_tube             19           19            0   100.000000\n",
       "iSNV_RDT_swab             7            1            8     6.666667\n",
       "iSNV_RDT_strip            3            0            7     0.000000\n",
       "iSNV_RDT_tube             0            0            4     0.000000"
      ]
     },
     "execution_count": 31,
     "metadata": {},
     "output_type": "execute_result"
    }
   ],
   "source": [
    "df_pretty = df_counts.copy()\n",
    "df_pretty = df_pretty.reindex(index=['SNV_RDT_swab','SNV_RDT_strip','SNV_RDT_tube',\\\n",
    "          'iSNV_RDT_swab','iSNV_RDT_strip','iSNV_RDT_tube'])\n",
    "df_pretty = df_pretty[['PCR_include','RDT_concord','RDT_discord']]\n",
    "df_pretty['Concordancy'] = df_pretty.RDT_concord/(df_pretty.PCR_include+df_pretty.RDT_discord)*100\n",
    "df_pretty"
   ]
  },
  {
   "cell_type": "markdown",
   "id": "888c33aa",
   "metadata": {
    "heading_collapsed": true
   },
   "source": [
    "# Cohort 2: MPHN2 senior housing outbreak"
   ]
  },
  {
   "cell_type": "markdown",
   "id": "02f1a6aa",
   "metadata": {
    "heading_collapsed": true,
    "hidden": true
   },
   "source": [
    "## Data tables"
   ]
  },
  {
   "cell_type": "code",
   "execution_count": 32,
   "id": "91b31c29",
   "metadata": {
    "hidden": true
   },
   "outputs": [],
   "source": [
    "# Samples to keep (other samples were SARS-CoV-2 negative per rapid tests)\n",
    "TOKEEP = [str(i) for i in [209,301,314,315,407,501,514,518,808,904]]"
   ]
  },
  {
   "cell_type": "code",
   "execution_count": 33,
   "id": "0448b674",
   "metadata": {
    "hidden": true
   },
   "outputs": [],
   "source": [
    "# clean up pcr data table\n",
    "MPHN2 = MPHN2_pcr\n",
    "MPHN2 = PCR_results(MPHN2).rename(columns={'Sample Name':'Sample','CT':'value'})\n",
    "MPHN2['value'] = MPHN2['value'].replace('Undetermined', 40)\n",
    "\n",
    "# add column for type & for ID\n",
    "MPHN2['variable'] = pd.Series([i[-1] for i in MPHN2.Sample.str.split('_')]).str.capitalize()\n",
    "MPHN2.loc[[t in [str(x) for x in range(6)] for t in MPHN2.variable],'variable'] = 'Water Control'\n",
    "MPHN2.loc[MPHN2.variable=='Liquid','variable'] = 'Buffer'\n",
    "MPHN2['ID'] = [MPHN2.Sample[i][0:3] if MPHN2.variable[i] in ['Swab','Buffer','Strip'] \\\n",
    "               else '' for i in range(len(MPHN2))]\n",
    "\n",
    "# drop samples that were already known as SARS-CoV-2 negative\n",
    "MPHN2 = MPHN2.drop([i for i in range(len(MPHN2)) if MPHN2.ID[i] not in TOKEEP]).reset_index(drop=True)"
   ]
  },
  {
   "cell_type": "code",
   "execution_count": 34,
   "id": "a6d368c5",
   "metadata": {
    "hidden": true
   },
   "outputs": [
    {
     "data": {
      "text/html": [
       "<div>\n",
       "<style scoped>\n",
       "    .dataframe tbody tr th:only-of-type {\n",
       "        vertical-align: middle;\n",
       "    }\n",
       "\n",
       "    .dataframe tbody tr th {\n",
       "        vertical-align: top;\n",
       "    }\n",
       "\n",
       "    .dataframe thead th {\n",
       "        text-align: right;\n",
       "    }\n",
       "</style>\n",
       "<table border=\"1\" class=\"dataframe\">\n",
       "  <thead>\n",
       "    <tr style=\"text-align: right;\">\n",
       "      <th></th>\n",
       "      <th>Sample</th>\n",
       "      <th>value</th>\n",
       "      <th>variable</th>\n",
       "      <th>ID</th>\n",
       "    </tr>\n",
       "  </thead>\n",
       "  <tbody>\n",
       "    <tr>\n",
       "      <th>7</th>\n",
       "      <td>314_strip</td>\n",
       "      <td>40.0</td>\n",
       "      <td>Strip</td>\n",
       "      <td>314</td>\n",
       "    </tr>\n",
       "    <tr>\n",
       "      <th>28</th>\n",
       "      <td>904_strip</td>\n",
       "      <td>40.0</td>\n",
       "      <td>Strip</td>\n",
       "      <td>904</td>\n",
       "    </tr>\n",
       "  </tbody>\n",
       "</table>\n",
       "</div>"
      ],
      "text/plain": [
       "       Sample  value variable   ID\n",
       "7   314_strip   40.0    Strip  314\n",
       "28  904_strip   40.0    Strip  904"
      ]
     },
     "execution_count": 34,
     "metadata": {},
     "output_type": "execute_result"
    }
   ],
   "source": [
    "MPHN2[MPHN2.value==40]"
   ]
  },
  {
   "cell_type": "code",
   "execution_count": 35,
   "id": "6d7e7502",
   "metadata": {
    "hidden": true
   },
   "outputs": [],
   "source": [
    "# clean up genomic data to have standard ID/sample name\n",
    "genome_data_2 = genomes.rename(columns={'entity:sample_set_id':'Sample'}).copy()\n",
    "genome_data_2['Sample'] = [item[0] for item in genome_data_2['Sample'].str.split('.')]\n",
    "genome_data_2['ID'] = [s[0:3] for s in genome_data_2.Sample]\n",
    "\n",
    "# add extra metrics\n",
    "LENGTH = 29903\n",
    "genome_data_2['value'] = genome_data_2['assembly_length_unambiguous']/LENGTH\n",
    "genome_data_2['Percent>80'] = genome_data_2.value > .8\n",
    "\n",
    "# merge with other dataframe to limit to appropriate samples\n",
    "genome_data_2 = pd.merge(genome_data_2, MPHN2[['Sample','variable','value']].rename(columns={'value':'Cq'}),\\\n",
    "                       how='right', on='Sample')"
   ]
  },
  {
   "cell_type": "markdown",
   "id": "381497d9",
   "metadata": {
    "heading_collapsed": true,
    "hidden": true
   },
   "source": [
    "## Genome stats"
   ]
  },
  {
   "cell_type": "code",
   "execution_count": 36,
   "id": "9c296ed6",
   "metadata": {
    "hidden": true
   },
   "outputs": [
    {
     "name": "stderr",
     "output_type": "stream",
     "text": [
      "<ipython-input-36-e3d3cff5a21d>:6: SettingWithCopyWarning: \n",
      "A value is trying to be set on a copy of a slice from a DataFrame.\n",
      "Try using .loc[row_indexer,col_indexer] = value instead\n",
      "\n",
      "See the caveats in the documentation: https://pandas.pydata.org/pandas-docs/stable/user_guide/indexing.html#returning-a-view-versus-a-copy\n",
      "  genomes_no40['Percent>80'] = [g>.8 for g in genomes_no40.value]\n",
      "<ipython-input-36-e3d3cff5a21d>:7: SettingWithCopyWarning: \n",
      "A value is trying to be set on a copy of a slice from a DataFrame.\n",
      "Try using .loc[row_indexer,col_indexer] = value instead\n",
      "\n",
      "See the caveats in the documentation: https://pandas.pydata.org/pandas-docs/stable/user_guide/indexing.html#returning-a-view-versus-a-copy\n",
      "  genomes_no40['Percent>10'] = [g>.1 for g in genomes_no40.value]\n",
      "<ipython-input-36-e3d3cff5a21d>:15: FutureWarning: Dropping invalid columns in DataFrameGroupBy.min is deprecated. In a future version, a TypeError will be raised. Before calling .min, select only columns which should be valid for the function.\n",
      "  'MinCt':genomes_no40.groupby('variable').min()['Cq'],\\\n",
      "<ipython-input-36-e3d3cff5a21d>:16: FutureWarning: Dropping invalid columns in DataFrameGroupBy.max is deprecated. In a future version, a TypeError will be raised. Before calling .max, select only columns which should be valid for the function.\n",
      "  'MaxCt':genomes_no40.groupby('variable').max()['Cq'],\\\n"
     ]
    }
   ],
   "source": [
    "# return relevant statistics in terms of how many samples had Cts, complete genomes, etc\n",
    "\n",
    "# update dataframes with columns that will enable groupby() analyses\n",
    "genome_data_2['Ct<40'] = [g<40 for g in genome_data_2.Cq]\n",
    "genomes_no40 = genome_data_2[genome_data_2['Ct<40']]\n",
    "genomes_no40['Percent>80'] = [g>.8 for g in genomes_no40.value]\n",
    "genomes_no40['Percent>10'] = [g>.1 for g in genomes_no40.value]\n",
    "\n",
    "# calculate the various stats we want\n",
    "genome_stats = pd.DataFrame({# Number & percent of samples with viral material, & total samples\n",
    "                            'NumberPositive':genome_data_2.groupby('variable').sum()['Ct<40'],\\\n",
    "                            'NumberSamples':genome_data_2.groupby('variable').count()['Cq'],\\\n",
    "                            'PercentWithCt':genome_data_2.groupby('variable').mean()['Ct<40'],\\\n",
    "                            # Ct range of positive samples, and mean\n",
    "                            'MinCt':genomes_no40.groupby('variable').min()['Cq'],\\\n",
    "                            'MaxCt':genomes_no40.groupby('variable').max()['Cq'],\\\n",
    "                            'MeanCt':genomes_no40.groupby('variable').mean()['Cq'],\\\n",
    "                            # Number & percent of positive samples with complete genomes; & number sequenced\n",
    "                            'NumberSequenced':genomes_no40.groupby('variable').count()['Cq'],\\\n",
    "                            'NumberComplete':genomes_no40.groupby('variable').sum()['Percent>80'],\\\n",
    "                            'PercentComplete':genomes_no40.groupby('variable').mean()['Percent>80'],\\\n",
    "                            'NumPartial':genomes_no40.groupby('variable').sum()['Percent>10'],\\\n",
    "                            # Average percent of genome covered, for positive samples\n",
    "                            'AveragePercent':genomes_no40.groupby('variable').mean()['value'],\\\n",
    "                            # Average depth, for positive samples\n",
    "                            'AverageDepth':genomes_no40.groupby('variable').mean()['assembly_mean_coverage']})\n",
    "\n",
    "# update any percent stats to be from 0-100 instead of 0-1\n",
    "for percent in ['PercentWithCt','PercentComplete','AveragePercent']:\n",
    "    genome_stats[percent] = (genome_stats[percent]*100)\n",
    "# round all numbers to have only one decimal point\n",
    "genome_stats = genome_stats.round(decimals=1)"
   ]
  },
  {
   "cell_type": "code",
   "execution_count": 37,
   "id": "9d48e280",
   "metadata": {
    "hidden": true
   },
   "outputs": [
    {
     "data": {
      "text/html": [
       "<div>\n",
       "<style scoped>\n",
       "    .dataframe tbody tr th:only-of-type {\n",
       "        vertical-align: middle;\n",
       "    }\n",
       "\n",
       "    .dataframe tbody tr th {\n",
       "        vertical-align: top;\n",
       "    }\n",
       "\n",
       "    .dataframe thead th {\n",
       "        text-align: right;\n",
       "    }\n",
       "</style>\n",
       "<table border=\"1\" class=\"dataframe\">\n",
       "  <thead>\n",
       "    <tr style=\"text-align: right;\">\n",
       "      <th></th>\n",
       "      <th>NumberPositive</th>\n",
       "      <th>NumberSamples</th>\n",
       "      <th>PercentWithCt</th>\n",
       "      <th>MinCt</th>\n",
       "      <th>MaxCt</th>\n",
       "      <th>MeanCt</th>\n",
       "      <th>NumberSequenced</th>\n",
       "      <th>NumberComplete</th>\n",
       "      <th>PercentComplete</th>\n",
       "      <th>NumPartial</th>\n",
       "      <th>AveragePercent</th>\n",
       "      <th>AverageDepth</th>\n",
       "    </tr>\n",
       "    <tr>\n",
       "      <th>variable</th>\n",
       "      <th></th>\n",
       "      <th></th>\n",
       "      <th></th>\n",
       "      <th></th>\n",
       "      <th></th>\n",
       "      <th></th>\n",
       "      <th></th>\n",
       "      <th></th>\n",
       "      <th></th>\n",
       "      <th></th>\n",
       "      <th></th>\n",
       "      <th></th>\n",
       "    </tr>\n",
       "  </thead>\n",
       "  <tbody>\n",
       "    <tr>\n",
       "      <th>Strip</th>\n",
       "      <td>8</td>\n",
       "      <td>10</td>\n",
       "      <td>80.0</td>\n",
       "      <td>30.8</td>\n",
       "      <td>35.2</td>\n",
       "      <td>33.0</td>\n",
       "      <td>8</td>\n",
       "      <td>1</td>\n",
       "      <td>12.5</td>\n",
       "      <td>6</td>\n",
       "      <td>42.6</td>\n",
       "      <td>5677.2</td>\n",
       "    </tr>\n",
       "    <tr>\n",
       "      <th>Swab</th>\n",
       "      <td>10</td>\n",
       "      <td>10</td>\n",
       "      <td>100.0</td>\n",
       "      <td>20.2</td>\n",
       "      <td>34.2</td>\n",
       "      <td>27.6</td>\n",
       "      <td>10</td>\n",
       "      <td>9</td>\n",
       "      <td>90.0</td>\n",
       "      <td>10</td>\n",
       "      <td>95.1</td>\n",
       "      <td>17902.3</td>\n",
       "    </tr>\n",
       "    <tr>\n",
       "      <th>Buffer</th>\n",
       "      <td>10</td>\n",
       "      <td>10</td>\n",
       "      <td>100.0</td>\n",
       "      <td>28.7</td>\n",
       "      <td>35.2</td>\n",
       "      <td>32.5</td>\n",
       "      <td>10</td>\n",
       "      <td>3</td>\n",
       "      <td>30.0</td>\n",
       "      <td>9</td>\n",
       "      <td>59.4</td>\n",
       "      <td>10437.7</td>\n",
       "    </tr>\n",
       "  </tbody>\n",
       "</table>\n",
       "</div>"
      ],
      "text/plain": [
       "          NumberPositive  NumberSamples  PercentWithCt  MinCt  MaxCt  MeanCt  \\\n",
       "variable                                                                       \n",
       "Strip                  8             10           80.0   30.8   35.2    33.0   \n",
       "Swab                  10             10          100.0   20.2   34.2    27.6   \n",
       "Buffer                10             10          100.0   28.7   35.2    32.5   \n",
       "\n",
       "          NumberSequenced  NumberComplete  PercentComplete  NumPartial  \\\n",
       "variable                                                                 \n",
       "Strip                   8               1             12.5           6   \n",
       "Swab                   10               9             90.0          10   \n",
       "Buffer                 10               3             30.0           9   \n",
       "\n",
       "          AveragePercent  AverageDepth  \n",
       "variable                                \n",
       "Strip               42.6        5677.2  \n",
       "Swab                95.1       17902.3  \n",
       "Buffer              59.4       10437.7  "
      ]
     },
     "execution_count": 37,
     "metadata": {},
     "output_type": "execute_result"
    }
   ],
   "source": [
    "genome_stats.loc[['Strip','Swab','Buffer']]"
   ]
  },
  {
   "cell_type": "code",
   "execution_count": 38,
   "id": "b14f9521",
   "metadata": {
    "hidden": true
   },
   "outputs": [
    {
     "data": {
      "text/html": [
       "<div>\n",
       "<style scoped>\n",
       "    .dataframe tbody tr th:only-of-type {\n",
       "        vertical-align: middle;\n",
       "    }\n",
       "\n",
       "    .dataframe tbody tr th {\n",
       "        vertical-align: top;\n",
       "    }\n",
       "\n",
       "    .dataframe thead th {\n",
       "        text-align: right;\n",
       "    }\n",
       "</style>\n",
       "<table border=\"1\" class=\"dataframe\">\n",
       "  <thead>\n",
       "    <tr style=\"text-align: right;\">\n",
       "      <th></th>\n",
       "      <th>R_clade</th>\n",
       "      <th>R_pango</th>\n",
       "      <th>Str_clade</th>\n",
       "      <th>Str_pango</th>\n",
       "      <th>Clade</th>\n",
       "      <th>Pango</th>\n",
       "    </tr>\n",
       "  </thead>\n",
       "  <tbody>\n",
       "    <tr>\n",
       "      <th>209</th>\n",
       "      <td>22E</td>\n",
       "      <td>EF.1.2</td>\n",
       "      <td>[22E]</td>\n",
       "      <td>[Unassigned]</td>\n",
       "      <td>True</td>\n",
       "      <td>False</td>\n",
       "    </tr>\n",
       "    <tr>\n",
       "      <th>301</th>\n",
       "      <td>23A</td>\n",
       "      <td>XBB.1.5</td>\n",
       "      <td>[22F]</td>\n",
       "      <td>[Unassigned]</td>\n",
       "      <td>False</td>\n",
       "      <td>False</td>\n",
       "    </tr>\n",
       "    <tr>\n",
       "      <th>314</th>\n",
       "      <td>22E</td>\n",
       "      <td>EF.1.2</td>\n",
       "      <td>[nan]</td>\n",
       "      <td>[nan]</td>\n",
       "      <td>False</td>\n",
       "      <td>False</td>\n",
       "    </tr>\n",
       "    <tr>\n",
       "      <th>315</th>\n",
       "      <td>23A</td>\n",
       "      <td>XBB.1.5</td>\n",
       "      <td>[23A]</td>\n",
       "      <td>[XBB.1.5]</td>\n",
       "      <td>True</td>\n",
       "      <td>True</td>\n",
       "    </tr>\n",
       "    <tr>\n",
       "      <th>407</th>\n",
       "      <td>23A</td>\n",
       "      <td>XBB.1.5</td>\n",
       "      <td>[recombinant]</td>\n",
       "      <td>[Unassigned]</td>\n",
       "      <td>False</td>\n",
       "      <td>False</td>\n",
       "    </tr>\n",
       "    <tr>\n",
       "      <th>501</th>\n",
       "      <td>23A</td>\n",
       "      <td>XBB.1.5</td>\n",
       "      <td>[23A]</td>\n",
       "      <td>[Unassigned]</td>\n",
       "      <td>True</td>\n",
       "      <td>False</td>\n",
       "    </tr>\n",
       "    <tr>\n",
       "      <th>514</th>\n",
       "      <td>23A</td>\n",
       "      <td>XBB.1.5</td>\n",
       "      <td>[22F]</td>\n",
       "      <td>[Unassigned]</td>\n",
       "      <td>False</td>\n",
       "      <td>False</td>\n",
       "    </tr>\n",
       "    <tr>\n",
       "      <th>518</th>\n",
       "      <td>23A</td>\n",
       "      <td>XBB.1.5</td>\n",
       "      <td>[recombinant]</td>\n",
       "      <td>[Unassigned]</td>\n",
       "      <td>False</td>\n",
       "      <td>False</td>\n",
       "    </tr>\n",
       "    <tr>\n",
       "      <th>808</th>\n",
       "      <td>23A</td>\n",
       "      <td>XBB.1.5</td>\n",
       "      <td>[22F]</td>\n",
       "      <td>[Unassigned]</td>\n",
       "      <td>False</td>\n",
       "      <td>False</td>\n",
       "    </tr>\n",
       "    <tr>\n",
       "      <th>904</th>\n",
       "      <td>23A</td>\n",
       "      <td>XBB.1.5</td>\n",
       "      <td>[nan]</td>\n",
       "      <td>[Unassigned]</td>\n",
       "      <td>False</td>\n",
       "      <td>False</td>\n",
       "    </tr>\n",
       "  </tbody>\n",
       "</table>\n",
       "</div>"
      ],
      "text/plain": [
       "    R_clade  R_pango      Str_clade     Str_pango  Clade  Pango\n",
       "209     22E   EF.1.2          [22E]  [Unassigned]   True  False\n",
       "301     23A  XBB.1.5          [22F]  [Unassigned]  False  False\n",
       "314     22E   EF.1.2          [nan]         [nan]  False  False\n",
       "315     23A  XBB.1.5          [23A]     [XBB.1.5]   True   True\n",
       "407     23A  XBB.1.5  [recombinant]  [Unassigned]  False  False\n",
       "501     23A  XBB.1.5          [23A]  [Unassigned]   True  False\n",
       "514     23A  XBB.1.5          [22F]  [Unassigned]  False  False\n",
       "518     23A  XBB.1.5  [recombinant]  [Unassigned]  False  False\n",
       "808     23A  XBB.1.5          [22F]  [Unassigned]  False  False\n",
       "904     23A  XBB.1.5          [nan]  [Unassigned]  False  False"
      ]
     },
     "metadata": {},
     "output_type": "display_data"
    },
    {
     "name": "stdout",
     "output_type": "stream",
     "text": [
      "Clade    3\n",
      "Pango    1\n",
      "dtype: object\n",
      "Clade    0.230769\n",
      "Pango    0.076923\n",
      "dtype: object\n"
     ]
    }
   ],
   "source": [
    "# for which samples could clade/lineage be accurately predicted by RDTs without PCR swab? -- for strip\n",
    "lineages = pd.DataFrame(index=genome_data_2[[s in ['Buffer','Strip','Swab'] for s in genome_data_2.variable]].ID.unique(), \\\n",
    "                        columns=['R_clade','R_pango','Str_clade','Str_pango','Clade','Pango'])\n",
    "for i in lineages.index:\n",
    "    lineages['R_clade'].loc[i] = genome_data_2[genome_data_2.Sample==(i+\"_swab\")].nextclade_clade.values[0]\n",
    "    lineages['R_pango'].loc[i] = genome_data_2[genome_data_2.Sample==(i+\"_swab\")].pango_lineage.values[0]\n",
    "    lineages['Str_clade'].loc[i] = genome_data_2[genome_data_2.Sample.str.contains(pat=i+'_strip')].nextclade_clade.values\n",
    "    lineages['Str_pango'].loc[i] = genome_data_2[genome_data_2.Sample.str.contains(pat=i+'_strip')].pango_lineage.values\n",
    "    lineages['Clade'].loc[i] = lineages.R_clade[i] in lineages.Str_clade[i] \n",
    "    lineages['Pango'].loc[i] = lineages.R_pango[i] in lineages.Str_pango[i] \n",
    "\n",
    "display(lineages)\n",
    "print(lineages[['Clade','Pango']].sum())\n",
    "print(lineages[['Clade','Pango']].sum()/13)"
   ]
  },
  {
   "cell_type": "code",
   "execution_count": 39,
   "id": "b3242094",
   "metadata": {
    "hidden": true
   },
   "outputs": [
    {
     "data": {
      "text/html": [
       "<div>\n",
       "<style scoped>\n",
       "    .dataframe tbody tr th:only-of-type {\n",
       "        vertical-align: middle;\n",
       "    }\n",
       "\n",
       "    .dataframe tbody tr th {\n",
       "        vertical-align: top;\n",
       "    }\n",
       "\n",
       "    .dataframe thead th {\n",
       "        text-align: right;\n",
       "    }\n",
       "</style>\n",
       "<table border=\"1\" class=\"dataframe\">\n",
       "  <thead>\n",
       "    <tr style=\"text-align: right;\">\n",
       "      <th></th>\n",
       "      <th>R_clade</th>\n",
       "      <th>R_pango</th>\n",
       "      <th>Str_clade</th>\n",
       "      <th>Str_pango</th>\n",
       "      <th>Clade</th>\n",
       "      <th>Pango</th>\n",
       "    </tr>\n",
       "  </thead>\n",
       "  <tbody>\n",
       "    <tr>\n",
       "      <th>209</th>\n",
       "      <td>22E</td>\n",
       "      <td>EF.1.2</td>\n",
       "      <td>[22E]</td>\n",
       "      <td>[EF.1.2]</td>\n",
       "      <td>True</td>\n",
       "      <td>True</td>\n",
       "    </tr>\n",
       "    <tr>\n",
       "      <th>301</th>\n",
       "      <td>23A</td>\n",
       "      <td>XBB.1.5</td>\n",
       "      <td>[23A]</td>\n",
       "      <td>[Unassigned]</td>\n",
       "      <td>True</td>\n",
       "      <td>False</td>\n",
       "    </tr>\n",
       "    <tr>\n",
       "      <th>314</th>\n",
       "      <td>22E</td>\n",
       "      <td>EF.1.2</td>\n",
       "      <td>[nan]</td>\n",
       "      <td>[nan]</td>\n",
       "      <td>False</td>\n",
       "      <td>False</td>\n",
       "    </tr>\n",
       "    <tr>\n",
       "      <th>315</th>\n",
       "      <td>23A</td>\n",
       "      <td>XBB.1.5</td>\n",
       "      <td>[23A]</td>\n",
       "      <td>[XBB.1.5]</td>\n",
       "      <td>True</td>\n",
       "      <td>True</td>\n",
       "    </tr>\n",
       "    <tr>\n",
       "      <th>407</th>\n",
       "      <td>23A</td>\n",
       "      <td>XBB.1.5</td>\n",
       "      <td>[22F]</td>\n",
       "      <td>[Unassigned]</td>\n",
       "      <td>False</td>\n",
       "      <td>False</td>\n",
       "    </tr>\n",
       "    <tr>\n",
       "      <th>501</th>\n",
       "      <td>23A</td>\n",
       "      <td>XBB.1.5</td>\n",
       "      <td>[23A]</td>\n",
       "      <td>[XBB.1.5]</td>\n",
       "      <td>True</td>\n",
       "      <td>True</td>\n",
       "    </tr>\n",
       "    <tr>\n",
       "      <th>514</th>\n",
       "      <td>23A</td>\n",
       "      <td>XBB.1.5</td>\n",
       "      <td>[23A]</td>\n",
       "      <td>[XBB.1.5]</td>\n",
       "      <td>True</td>\n",
       "      <td>True</td>\n",
       "    </tr>\n",
       "    <tr>\n",
       "      <th>518</th>\n",
       "      <td>23A</td>\n",
       "      <td>XBB.1.5</td>\n",
       "      <td>[23A]</td>\n",
       "      <td>[Unassigned]</td>\n",
       "      <td>True</td>\n",
       "      <td>False</td>\n",
       "    </tr>\n",
       "    <tr>\n",
       "      <th>808</th>\n",
       "      <td>23A</td>\n",
       "      <td>XBB.1.5</td>\n",
       "      <td>[recombinant]</td>\n",
       "      <td>[Unassigned]</td>\n",
       "      <td>False</td>\n",
       "      <td>False</td>\n",
       "    </tr>\n",
       "    <tr>\n",
       "      <th>904</th>\n",
       "      <td>23A</td>\n",
       "      <td>XBB.1.5</td>\n",
       "      <td>[22F]</td>\n",
       "      <td>[Unassigned]</td>\n",
       "      <td>False</td>\n",
       "      <td>False</td>\n",
       "    </tr>\n",
       "  </tbody>\n",
       "</table>\n",
       "</div>"
      ],
      "text/plain": [
       "    R_clade  R_pango      Str_clade     Str_pango  Clade  Pango\n",
       "209     22E   EF.1.2          [22E]      [EF.1.2]   True   True\n",
       "301     23A  XBB.1.5          [23A]  [Unassigned]   True  False\n",
       "314     22E   EF.1.2          [nan]         [nan]  False  False\n",
       "315     23A  XBB.1.5          [23A]     [XBB.1.5]   True   True\n",
       "407     23A  XBB.1.5          [22F]  [Unassigned]  False  False\n",
       "501     23A  XBB.1.5          [23A]     [XBB.1.5]   True   True\n",
       "514     23A  XBB.1.5          [23A]     [XBB.1.5]   True   True\n",
       "518     23A  XBB.1.5          [23A]  [Unassigned]   True  False\n",
       "808     23A  XBB.1.5  [recombinant]  [Unassigned]  False  False\n",
       "904     23A  XBB.1.5          [22F]  [Unassigned]  False  False"
      ]
     },
     "metadata": {},
     "output_type": "display_data"
    },
    {
     "name": "stdout",
     "output_type": "stream",
     "text": [
      "Clade    6\n",
      "Pango    4\n",
      "dtype: object\n",
      "Clade    0.461538\n",
      "Pango    0.307692\n",
      "dtype: object\n"
     ]
    }
   ],
   "source": [
    "# for which samples could clade/lineage be accurately predicted by RDTs without PCR swab? -- for tube\n",
    "lineages = pd.DataFrame(index=genome_data_2[[s in ['Buffer','Strip','Swab'] for s in genome_data_2.variable]].ID.unique(), \\\n",
    "                        columns=['R_clade','R_pango','Str_clade','Str_pango','Clade','Pango'])\n",
    "for i in lineages.index:\n",
    "    lineages['R_clade'].loc[i] = genome_data_2[genome_data_2.Sample==(i+\"_swab\")].nextclade_clade.values[0]\n",
    "    lineages['R_pango'].loc[i] = genome_data_2[genome_data_2.Sample==(i+\"_swab\")].pango_lineage.values[0]\n",
    "    lineages['Str_clade'].loc[i] = genome_data_2[genome_data_2.Sample.str.contains(pat=i+'_liquid')].nextclade_clade.values\n",
    "    lineages['Str_pango'].loc[i] = genome_data_2[genome_data_2.Sample.str.contains(pat=i+'_liquid')].pango_lineage.values\n",
    "    lineages['Clade'].loc[i] = lineages.R_clade[i] in lineages.Str_clade[i] \n",
    "    lineages['Pango'].loc[i] = lineages.R_pango[i] in lineages.Str_pango[i] \n",
    "\n",
    "display(lineages)\n",
    "print(lineages[['Clade','Pango']].sum())\n",
    "print(lineages[['Clade','Pango']].sum()/13)"
   ]
  },
  {
   "cell_type": "code",
   "execution_count": 40,
   "id": "c3cd2fd5",
   "metadata": {
    "hidden": true
   },
   "outputs": [
    {
     "data": {
      "text/html": [
       "<div>\n",
       "<style scoped>\n",
       "    .dataframe tbody tr th:only-of-type {\n",
       "        vertical-align: middle;\n",
       "    }\n",
       "\n",
       "    .dataframe tbody tr th {\n",
       "        vertical-align: top;\n",
       "    }\n",
       "\n",
       "    .dataframe thead th {\n",
       "        text-align: right;\n",
       "    }\n",
       "</style>\n",
       "<table border=\"1\" class=\"dataframe\">\n",
       "  <thead>\n",
       "    <tr style=\"text-align: right;\">\n",
       "      <th></th>\n",
       "      <th>Sample</th>\n",
       "      <th>nextclade_clade</th>\n",
       "      <th>pango_lineage</th>\n",
       "    </tr>\n",
       "  </thead>\n",
       "  <tbody>\n",
       "    <tr>\n",
       "      <th>0</th>\n",
       "      <td>209_liquid</td>\n",
       "      <td>22E</td>\n",
       "      <td>EF.1.2</td>\n",
       "    </tr>\n",
       "    <tr>\n",
       "      <th>1</th>\n",
       "      <td>209_strip</td>\n",
       "      <td>22E</td>\n",
       "      <td>Unassigned</td>\n",
       "    </tr>\n",
       "    <tr>\n",
       "      <th>2</th>\n",
       "      <td>209_swab</td>\n",
       "      <td>22E</td>\n",
       "      <td>EF.1.2</td>\n",
       "    </tr>\n",
       "    <tr>\n",
       "      <th>3</th>\n",
       "      <td>301_liquid</td>\n",
       "      <td>23A</td>\n",
       "      <td>Unassigned</td>\n",
       "    </tr>\n",
       "    <tr>\n",
       "      <th>4</th>\n",
       "      <td>301_strip</td>\n",
       "      <td>22F</td>\n",
       "      <td>Unassigned</td>\n",
       "    </tr>\n",
       "    <tr>\n",
       "      <th>5</th>\n",
       "      <td>301_swab</td>\n",
       "      <td>23A</td>\n",
       "      <td>XBB.1.5</td>\n",
       "    </tr>\n",
       "    <tr>\n",
       "      <th>6</th>\n",
       "      <td>314_liquid</td>\n",
       "      <td>NaN</td>\n",
       "      <td>NaN</td>\n",
       "    </tr>\n",
       "    <tr>\n",
       "      <th>8</th>\n",
       "      <td>314_swab</td>\n",
       "      <td>22E</td>\n",
       "      <td>EF.1.2</td>\n",
       "    </tr>\n",
       "    <tr>\n",
       "      <th>9</th>\n",
       "      <td>315_liquid</td>\n",
       "      <td>23A</td>\n",
       "      <td>XBB.1.5</td>\n",
       "    </tr>\n",
       "    <tr>\n",
       "      <th>10</th>\n",
       "      <td>315_strip</td>\n",
       "      <td>23A</td>\n",
       "      <td>XBB.1.5</td>\n",
       "    </tr>\n",
       "    <tr>\n",
       "      <th>11</th>\n",
       "      <td>315_swab</td>\n",
       "      <td>23A</td>\n",
       "      <td>XBB.1.5</td>\n",
       "    </tr>\n",
       "    <tr>\n",
       "      <th>12</th>\n",
       "      <td>407_liquid</td>\n",
       "      <td>22F</td>\n",
       "      <td>Unassigned</td>\n",
       "    </tr>\n",
       "    <tr>\n",
       "      <th>13</th>\n",
       "      <td>407_strip</td>\n",
       "      <td>recombinant</td>\n",
       "      <td>Unassigned</td>\n",
       "    </tr>\n",
       "    <tr>\n",
       "      <th>14</th>\n",
       "      <td>407_swab</td>\n",
       "      <td>23A</td>\n",
       "      <td>XBB.1.5</td>\n",
       "    </tr>\n",
       "    <tr>\n",
       "      <th>15</th>\n",
       "      <td>501_liquid</td>\n",
       "      <td>23A</td>\n",
       "      <td>XBB.1.5</td>\n",
       "    </tr>\n",
       "    <tr>\n",
       "      <th>16</th>\n",
       "      <td>501_strip</td>\n",
       "      <td>23A</td>\n",
       "      <td>Unassigned</td>\n",
       "    </tr>\n",
       "    <tr>\n",
       "      <th>17</th>\n",
       "      <td>501_swab</td>\n",
       "      <td>23A</td>\n",
       "      <td>XBB.1.5</td>\n",
       "    </tr>\n",
       "    <tr>\n",
       "      <th>18</th>\n",
       "      <td>514_liquid</td>\n",
       "      <td>23A</td>\n",
       "      <td>XBB.1.5</td>\n",
       "    </tr>\n",
       "    <tr>\n",
       "      <th>19</th>\n",
       "      <td>514_strip</td>\n",
       "      <td>22F</td>\n",
       "      <td>Unassigned</td>\n",
       "    </tr>\n",
       "    <tr>\n",
       "      <th>20</th>\n",
       "      <td>514_swab</td>\n",
       "      <td>23A</td>\n",
       "      <td>XBB.1.5</td>\n",
       "    </tr>\n",
       "    <tr>\n",
       "      <th>21</th>\n",
       "      <td>518_liquid</td>\n",
       "      <td>23A</td>\n",
       "      <td>Unassigned</td>\n",
       "    </tr>\n",
       "    <tr>\n",
       "      <th>22</th>\n",
       "      <td>518_strip</td>\n",
       "      <td>recombinant</td>\n",
       "      <td>Unassigned</td>\n",
       "    </tr>\n",
       "    <tr>\n",
       "      <th>23</th>\n",
       "      <td>518_swab</td>\n",
       "      <td>23A</td>\n",
       "      <td>XBB.1.5</td>\n",
       "    </tr>\n",
       "    <tr>\n",
       "      <th>24</th>\n",
       "      <td>808_liquid</td>\n",
       "      <td>recombinant</td>\n",
       "      <td>Unassigned</td>\n",
       "    </tr>\n",
       "    <tr>\n",
       "      <th>25</th>\n",
       "      <td>808_strip</td>\n",
       "      <td>22F</td>\n",
       "      <td>Unassigned</td>\n",
       "    </tr>\n",
       "    <tr>\n",
       "      <th>26</th>\n",
       "      <td>808_swab</td>\n",
       "      <td>23A</td>\n",
       "      <td>XBB.1.5</td>\n",
       "    </tr>\n",
       "    <tr>\n",
       "      <th>27</th>\n",
       "      <td>904_liquid</td>\n",
       "      <td>22F</td>\n",
       "      <td>Unassigned</td>\n",
       "    </tr>\n",
       "    <tr>\n",
       "      <th>29</th>\n",
       "      <td>904_swab</td>\n",
       "      <td>23A</td>\n",
       "      <td>XBB.1.5</td>\n",
       "    </tr>\n",
       "  </tbody>\n",
       "</table>\n",
       "</div>"
      ],
      "text/plain": [
       "        Sample nextclade_clade pango_lineage\n",
       "0   209_liquid             22E        EF.1.2\n",
       "1    209_strip             22E    Unassigned\n",
       "2     209_swab             22E        EF.1.2\n",
       "3   301_liquid             23A    Unassigned\n",
       "4    301_strip             22F    Unassigned\n",
       "5     301_swab             23A       XBB.1.5\n",
       "6   314_liquid             NaN           NaN\n",
       "8     314_swab             22E        EF.1.2\n",
       "9   315_liquid             23A       XBB.1.5\n",
       "10   315_strip             23A       XBB.1.5\n",
       "11    315_swab             23A       XBB.1.5\n",
       "12  407_liquid             22F    Unassigned\n",
       "13   407_strip     recombinant    Unassigned\n",
       "14    407_swab             23A       XBB.1.5\n",
       "15  501_liquid             23A       XBB.1.5\n",
       "16   501_strip             23A    Unassigned\n",
       "17    501_swab             23A       XBB.1.5\n",
       "18  514_liquid             23A       XBB.1.5\n",
       "19   514_strip             22F    Unassigned\n",
       "20    514_swab             23A       XBB.1.5\n",
       "21  518_liquid             23A    Unassigned\n",
       "22   518_strip     recombinant    Unassigned\n",
       "23    518_swab             23A       XBB.1.5\n",
       "24  808_liquid     recombinant    Unassigned\n",
       "25   808_strip             22F    Unassigned\n",
       "26    808_swab             23A       XBB.1.5\n",
       "27  904_liquid             22F    Unassigned\n",
       "29    904_swab             23A       XBB.1.5"
      ]
     },
     "execution_count": 40,
     "metadata": {},
     "output_type": "execute_result"
    }
   ],
   "source": [
    "genomes_no40[['Sample','nextclade_clade','pango_lineage']]"
   ]
  },
  {
   "cell_type": "markdown",
   "id": "f326b4ef",
   "metadata": {},
   "source": [
    "# Both cohorts: Ct comparisons"
   ]
  },
  {
   "cell_type": "markdown",
   "id": "c913e513",
   "metadata": {
    "heading_collapsed": true
   },
   "source": [
    "## Relevant dataframes "
   ]
  },
  {
   "cell_type": "markdown",
   "id": "65e8c611",
   "metadata": {
    "hidden": true
   },
   "source": [
    "Create rdt dataframe with a few extra columns, to merge in eventually"
   ]
  },
  {
   "cell_type": "code",
   "execution_count": 41,
   "id": "9914945d",
   "metadata": {
    "hidden": true
   },
   "outputs": [],
   "source": [
    "rdt_new = rdt_value.copy().rename(columns={'Cq':'value'}).reset_index(drop=True)\n",
    "rdt_new['Brand'] = [a[1][0] for a in rdt_new['Sample'].str.split('_')]\n",
    "rdt_new['Component'] = [a[2] if len(a)==3 else np.nan for a in rdt_new['Sample'].str.split('_')]\n",
    "rdt_new['variable'] = [rdt_new.loc[a,'Brand'] + str(rdt_new.loc[a,'Component']) for a in range(len(rdt_new))]"
   ]
  },
  {
   "cell_type": "markdown",
   "id": "6c1796c3",
   "metadata": {
    "hidden": true
   },
   "source": [
    "Combine MPHN2 and rdt_new to have all samples together in one dataframe"
   ]
  },
  {
   "cell_type": "code",
   "execution_count": 42,
   "id": "22fa6ed3",
   "metadata": {
    "hidden": true
   },
   "outputs": [],
   "source": [
    "combined = MPHN2.append(rdt_new[['Sample','value','variable','ID']]).reset_index(drop=True)\n",
    "\n",
    "# now let's combine with genome length\n",
    "all_genome = genome_data_1.append(genome_data_2.rename(columns={'value':'Percent'}))\n",
    "all_genome = all_genome[['Sample','ID','assembly_length_unambiguous','Percent','pango_lineage']]\n",
    "combined = pd.merge(combined,all_genome,how='left',on=['Sample','ID'])\n",
    "\n",
    "# create categories to distinguish between cohorts and component (for now, just need cohort 1 strip)\n",
    "combined['category'] = np.nan\n",
    "combined.loc[combined.variable=='inan','category'] = 'Strip'\n",
    "combined.loc[combined.variable=='Bstr','category'] = 'Strip'\n",
    "combined.loc[combined.variable=='Qstr','category'] = 'Strip'"
   ]
  },
  {
   "cell_type": "markdown",
   "id": "03b259fc",
   "metadata": {
    "hidden": true
   },
   "source": [
    "Comparisons of Ct difference for matched pairs: PCR v. RDT strip / swab; RDT strip v. swab / tube"
   ]
  },
  {
   "cell_type": "code",
   "execution_count": 43,
   "id": "8c236a4e",
   "metadata": {
    "hidden": true
   },
   "outputs": [],
   "source": [
    "# PCR v. RDT strip: for all cohort 1 strips (i.e. category=='Strip')\n",
    "PCR_minus_RDTstr = [combined[combined.Sample == combined.ID[i]+'_R'].value.values[0] - combined.value[i] \\\n",
    "                    for i in combined[combined.category=='Strip'].index]\n",
    "# PCR v. RDT swab: for cohort 1 Binax swabs\n",
    "PCR_minus_RDTswab = [combined[combined.Sample == combined.ID[i]+'_R'].value.values[0] - combined.value[i] \\\n",
    "                    for i in combined[combined.variable=='Bswab'].index]\n",
    "# RDT strip v. swab: first for cohort 1 BinaxNOW matched samples\n",
    "RDTswab_minus_RDTstr = [combined[combined.Sample.str.contains(combined.ID[i]+'_B.*swab')].value.values[0] - \\\n",
    "                        combined.value[i] for i in combined[combined.variable=='Bstr'].index \\\n",
    "                       if len(combined[combined.Sample.str.contains(combined.ID[i]+'_B.*swab')])]\n",
    "# second for cohort 2 iHealth matched samples\n",
    "RDTswab_minus_RDTstr.extend([combined[combined.Sample.str.contains(combined.ID[i]+'_swab')].value.values[0] - \\\n",
    "                             combined.value[i] for i in combined[combined.variable=='Strip'].index])\n",
    "# RDT strip v. tube: first for cohort 1 Quickvue matched samples\n",
    "RDTtube_minus_RDTstr = [combined[combined.Sample.str.contains(combined.ID[i]+'_Q.*tube')].value.values[0] - \\\n",
    "                        combined.value[i] for i in combined[combined.variable=='Qstr'].index \\\n",
    "                        if len(combined[combined.Sample.str.contains(combined.ID[i]+'_Q.*tube')])]\n",
    "# second for cohort 2 iHealth matched samples\n",
    "RDTtube_minus_RDTstr.extend([combined[combined.Sample.str.contains(combined.ID[i]+'_liquid')].value.values[0] - \\\n",
    "                             combined.value[i] for i in combined[combined.variable=='Strip'].index])\n",
    "\n",
    "d = {'PCR_minus_RDTstr':PCR_minus_RDTstr,'PCR_minus_RDTswab':PCR_minus_RDTswab,\\\n",
    "     'RDTswab_minus_RDTstr':RDTswab_minus_RDTstr,'RDTtube_minus_RDTstr':RDTtube_minus_RDTstr}\n",
    "Ctdiffs = pd.DataFrame(dict([ (k,pd.Series(v)) for k,v in d.items() ]))"
   ]
  },
  {
   "cell_type": "markdown",
   "id": "bab1664c",
   "metadata": {
    "hidden": true
   },
   "source": [
    "Comparisons of genome length difference for matched pairs: PCR v. each strip brand&component"
   ]
  },
  {
   "cell_type": "code",
   "execution_count": 44,
   "id": "6f4c9c12",
   "metadata": {
    "hidden": true
   },
   "outputs": [],
   "source": [
    "d = {}\n",
    "for comp in ['Bswab','Bstr','Qtube','Qstr','inan']:\n",
    "    d[comp] = [combined.Percent[i] - combined[combined.Sample==combined.ID[i]+'_R'].Percent.values[0] \\\n",
    "               for i in combined[combined.variable==comp].index]\n",
    "\n",
    "Genome_diffs = pd.DataFrame(dict([ (k,pd.Series(v)) for k,v in d.items() ]))"
   ]
  },
  {
   "cell_type": "markdown",
   "id": "6543ad39",
   "metadata": {
    "hidden": true
   },
   "source": [
    "Comparisons of genome length difference for matched pairs: PCR v. each RDT component"
   ]
  },
  {
   "cell_type": "code",
   "execution_count": 45,
   "id": "d6f5be47",
   "metadata": {
    "hidden": true
   },
   "outputs": [],
   "source": [
    "d = {'Strip':[]}\n",
    "for comp in ['Bswab','Bstr','Qtube','Qstr','inan']: #strip\n",
    "    d['Strip'].extend([combined.Percent[i] - combined[combined.Sample==combined.ID[i]+'_R'].Percent.values[0] \\\n",
    "               for i in combined[combined.variable==comp].index])\n",
    "d['Buffer'] = [combined.Percent[i] - combined[combined.Sample==combined.ID[i]+'_R'].Percent.values[0] \\\n",
    "               for i in combined[combined.variable=='Qtube'].index]\n",
    "d['Swab'] = [combined.Percent[i] - combined[combined.Sample==combined.ID[i]+'_R'].Percent.values[0] \\\n",
    "               for i in combined[combined.variable=='Bswab'].index]\n",
    "\n",
    "Genome_diffs2 = pd.DataFrame(dict([ (k,pd.Series(v)) for k,v in d.items() ]))"
   ]
  },
  {
   "cell_type": "markdown",
   "id": "9461ab88",
   "metadata": {},
   "source": [
    "## Figures "
   ]
  },
  {
   "cell_type": "code",
   "execution_count": 46,
   "id": "6d7fc7c1",
   "metadata": {},
   "outputs": [],
   "source": [
    "sns.set_style('white')"
   ]
  },
  {
   "cell_type": "code",
   "execution_count": 47,
   "id": "802c1ae2",
   "metadata": {},
   "outputs": [
    {
     "name": "stderr",
     "output_type": "stream",
     "text": [
      "/Users/jsilbert/opt/miniconda3/lib/python3.9/site-packages/scipy/stats/_morestats.py:3414: UserWarning: Exact p-value calculation does not work if there are zeros. Switching to normal approximation.\n",
      "  warnings.warn(\"Exact p-value calculation does not work if there are \"\n",
      "/Users/jsilbert/opt/miniconda3/lib/python3.9/site-packages/scipy/stats/_morestats.py:3428: UserWarning: Sample size too small for normal approximation.\n",
      "  warnings.warn(\"Sample size too small for normal approximation.\")\n"
     ]
    },
    {
     "name": "stdout",
     "output_type": "stream",
     "text": [
      "p-value annotation legend:\n",
      "      ns: p <= 1.00e+00\n",
      "       *: 1.00e-02 < p <= 5.00e-02\n",
      "      **: 1.00e-03 < p <= 1.00e-02\n",
      "     ***: 1.00e-04 < p <= 1.00e-03\n",
      "    ****: p <= 1.00e-04\n",
      "\n",
      "Bswab vs. Bstr: Custom statistical test, P_val:1.172e-02\n",
      "Buffer vs. Strip: Custom statistical test, P_val:1.367e-02\n",
      "Swab vs. Buffer: Custom statistical test, P_val:1.953e-03\n",
      "Qstr vs. Qtube: Custom statistical test, P_val:6.789e-02\n",
      "Swab vs. Strip: Custom statistical test, P_val:1.953e-03\n",
      "Diff for iHealth strip & buffer: 1.89555\n"
     ]
    },
    {
     "data": {
      "image/png": "[encoded data removed]",
      "text/plain": [
       "<Figure size 756x360 with 1 Axes>"
      ]
     },
     "metadata": {},
     "output_type": "display_data"
    }
   ],
   "source": [
    "# update dataframe to only include matched sets for Qstr & Qtube; Bswab & Bstr (cohort2 is already matched)\n",
    "df = combined.copy()\n",
    "for i in range(len(combined)):\n",
    "    for text in ['Q','Bs']: # check for matched Qstr & Qtube, then Bstr & Bswab sets\n",
    "        if text in df.loc[i].variable:\n",
    "            if sum([text in x for x in df[df.ID==df.loc[i].ID].variable]) < 2:\n",
    "                df.drop([i], inplace=True)\n",
    "            break # no need to check same location for other type of RDT\n",
    "order = ['Bswab', 'Bstr', 'Swab','Buffer','Strip','Qstr','Qtube']\n",
    "labels = ['Swab','Strip','Swab','Buffer','Strip','Strip','Buffer']\n",
    "\n",
    "f = plt.figure(figsize=[10.5,5])\n",
    "ax = sns.stripplot(data=df, x=\"variable\", y=\"value\", order=order, **args_stripplot)\n",
    "sns.boxplot(x=\"variable\", y=\"value\", data=df, order=order, **args_boxplot)\n",
    "\n",
    "ax.invert_yaxis()\n",
    "\n",
    "pairs = [['Bstr','Bswab'],['Buffer','Strip'],['Buffer','Swab'],['Swab','Strip'],['Qstr','Qtube']]\n",
    "annotator = Annotator(ax, pairs,order=order,data=df,x='variable',y='value')\n",
    "annotator.set_pvalues(get_pvalues2(df,pairs,wilcoxon=True)) # do wilcoxon paired test\n",
    "annotator.annotate()\n",
    "df_wilcoxon = save_wilcoxon_variances('Ct Values', df, pairs, df_wilcoxon)\n",
    "\n",
    "lspace, rspace=[60,60]\n",
    "ax.set_xlabel('\\nBinaxNOW'+lspace*' '+'iHealth'+rspace*' '+'Quickvue', fontsize=12)\n",
    "ax.set_xticklabels(labels)\n",
    "ax.set_ylabel('Ct Values', fontsize=12)\n",
    "ax.get_legend().remove()\n",
    "print('Diff for iHealth strip & buffer:',\n",
    "      df[df.variable=='Strip'].value.mean() - df[df.variable=='Buffer'].value.mean())\n",
    "\n",
    "add_n_XX(df,'variable','value',order,ax,offset=.7)\n",
    "\n",
    "save_figure('fig/CT_allbrands_allcomponents.svg')"
   ]
  },
  {
   "cell_type": "code",
   "execution_count": 48,
   "id": "35c9b470",
   "metadata": {},
   "outputs": [
    {
     "data": {
      "image/png": "[encoded data removed]",
      "text/plain": [
       "<Figure size 756x360 with 1 Axes>"
      ]
     },
     "metadata": {},
     "output_type": "display_data"
    }
   ],
   "source": [
    "f = plt.figure(figsize=[10.5,5])\n",
    "\n",
    "df = pd.melt(Ctdiffs)\n",
    "order = ['PCR_minus_RDTstr','RDTtube_minus_RDTstr','PCR_minus_RDTswab','RDTswab_minus_RDTstr']\n",
    "labels = [\"$PCR - RDT_{strip}$\",'$RDT_{tube} - RDT_{strip}$',\\\n",
    "          '$PCR - RDT_{swab}$','$RDT_{swab} - RDT_{strip}$']\n",
    "\n",
    "ax = sns.stripplot(data=df, x=\"variable\", y=\"value\", order=order, **args_stripplot)\n",
    "sns.boxplot(x=\"variable\", y=\"value\", order=order, data=df, **args_boxplot)\n",
    "add_n_XX(df,'variable','value',order,ax,offset=-.5,max=True)\n",
    "\n",
    "plt.plot(np.arange(-.5,4,.5),[0]*9,'k:',alpha=.5)\n",
    "\n",
    "ax.set_ylabel('Ct Difference', fontsize=12)\n",
    "ax.set_xticklabels(labels)\n",
    "ax.set_xlabel('Matched Comparisons', fontsize=12)\n",
    "ax.get_legend().remove()\n",
    "\n",
    "save_figure('fig/CT_matched_comparisons.svg')"
   ]
  },
  {
   "cell_type": "code",
   "execution_count": 49,
   "id": "d9052d41",
   "metadata": {},
   "outputs": [
    {
     "data": {
      "image/png": "[encoded data removed]",
      "text/plain": [
       "<Figure size 360x360 with 1 Axes>"
      ]
     },
     "metadata": {},
     "output_type": "display_data"
    }
   ],
   "source": [
    "plt.figure(figsize=[5,5])\n",
    "\n",
    "df = pd.melt(Genome_diffs2)\n",
    "order = ['Strip','Swab','Buffer']\n",
    "\n",
    "sns.boxplot(x=\"variable\", y=\"value\", order=order, data=df, **args_boxplot)\n",
    "ax = sns.stripplot(data=df, x=\"variable\", y=\"value\", order=order, **args_stripplot)\n",
    "add_n_XX(df,'variable','value',order,ax,offset=-.02,max=True)\n",
    "\n",
    "ax.set_ylabel('Difference in\\nPercent Genome Assembled', fontsize=12)\n",
    "ax.set_xlabel('Matched Comparisons with PCR Swab', fontsize=12)\n",
    "ax.get_legend().remove()\n",
    "\n",
    "save_figure('fig/genomic_matched_comparisons.svg')"
   ]
  },
  {
   "cell_type": "code",
   "execution_count": 50,
   "id": "39bc6490",
   "metadata": {},
   "outputs": [
    {
     "name": "stdout",
     "output_type": "stream",
     "text": [
      "# samples Ct>32: 24\n",
      "Spearman r^2: 0.6393824392270028 \n",
      "Spearman p value: 1.0983644261318508e-14\n"
     ]
    },
    {
     "data": {
      "image/png": "[encoded data removed]",
      "text/plain": [
       "<Figure size 756x360 with 1 Axes>"
      ]
     },
     "metadata": {},
     "output_type": "display_data"
    }
   ],
   "source": [
    "plt.figure(figsize=[10.5,5])\n",
    "\n",
    "df = combined.copy().rename({'category':'Category'})\n",
    "locs = np.where([len(i)==3 for i in df.ID])[0]\n",
    "df.loc[locs,'Category'] = df.loc[locs,'variable']\n",
    "df.loc[np.where(df.variable=='Bswab')[0],'Category'] = 'Swab'\n",
    "df.loc[np.where(df.variable=='Qtube')[0],'Category'] = 'Buffer'\n",
    "df.loc[np.where(df.variable=='Rnan')[0],'Category'] = 'PCR'\n",
    "df['Lineage'] = ['B' in str(l) for l in combined.pango_lineage]\n",
    "\n",
    "order = ['PCR','Swab','Strip','Buffer']\n",
    "ax = sns.scatterplot(data=df, x=\"value\", y=\"Percent\",hue_order=order,hue='Category',palette='rocket',\\\n",
    "                     style='Lineage',style_order=[True,False], markers={False:'X',True:'o'})\n",
    "\n",
    "plt.plot([32,32],[0,1],'k:', alpha=.5)\n",
    "plt.plot([18,41],[.7,.7],'k:', alpha=.5)\n",
    "\n",
    "plt.ylabel(\"Percent Genome Assembled\", fontweight='normal', fontsize=12)\n",
    "plt.xlabel(\"Ct Value\", fontweight='normal', fontsize=12) ;\n",
    "print('# samples Ct>32:',len(combined[combined.value>32].dropna(subset=['assembly_length_unambiguous'])))\n",
    "\n",
    "save_figure('fig/genomic_CT.svg')\n",
    "\n",
    "result = stats.spearmanr(df.value, df.Percent, nan_policy='omit')\n",
    "print('Spearman r^2:', result.statistic**2, '\\nSpearman p value:', result.pvalue)"
   ]
  },
  {
   "cell_type": "markdown",
   "id": "ec5e6bdd",
   "metadata": {},
   "source": [
    "## Relevant stats"
   ]
  },
  {
   "cell_type": "code",
   "execution_count": 51,
   "id": "afe560af",
   "metadata": {},
   "outputs": [
    {
     "name": "stdout",
     "output_type": "stream",
     "text": [
      "PCR_minus_RDTstr\n",
      "pvalue: 2.384185791015625e-07\n",
      "difference: -10.15989620995116\n",
      "# individuals: 23 \n",
      "\n",
      "PCR_minus_RDTswab\n",
      "pvalue: 0.0546875\n",
      "difference: -4.14251557218143\n",
      "# individuals: 9 \n",
      "\n",
      "RDTswab_minus_RDTstr\n",
      "pvalue: 0.00019643672621231134\n",
      "difference: -6.948094608932407\n",
      "# individuals: 19 \n",
      "\n",
      "RDTtube_minus_RDTstr\n",
      "pvalue: 0.9249783071207602\n",
      "difference: 0.31179125763572757\n",
      "# individuals: 16 \n",
      "\n"
     ]
    },
    {
     "name": "stderr",
     "output_type": "stream",
     "text": [
      "/Users/jsilbert/opt/miniconda3/lib/python3.9/site-packages/scipy/stats/_morestats.py:3414: UserWarning: Exact p-value calculation does not work if there are zeros. Switching to normal approximation.\n",
      "  warnings.warn(\"Exact p-value calculation does not work if there are \"\n"
     ]
    }
   ],
   "source": [
    "for col in Ctdiffs.columns:\n",
    "    print(col)\n",
    "    print('pvalue:',stats.wilcoxon(Ctdiffs[col].dropna()).pvalue)\n",
    "    print('difference:',Ctdiffs[col].dropna().mean())\n",
    "    print('# individuals:',len(Ctdiffs[col].dropna()),'\\n')"
   ]
  },
  {
   "cell_type": "code",
   "execution_count": 52,
   "id": "d6d6f643",
   "metadata": {},
   "outputs": [
    {
     "name": "stdout",
     "output_type": "stream",
     "text": [
      "Diff PCR v. matched RDT swabs\n",
      "PCR 0.9810339144185247\n",
      "RDT 0.6694837116199521\n",
      "Diff PCR v. matched RDT strips\n",
      "PCR 0.9714443366886265\n",
      "RDT 0.5063104036384309\n"
     ]
    }
   ],
   "source": [
    "print('Diff PCR v. matched RDT swabs')\n",
    "print('PCR',combined[combined.variable=='Bswab'].Percent.mean()-Genome_diffs['Bswab'].dropna().mean())\n",
    "print('RDT',combined[combined.variable=='Bswab'].Percent.mean())\n",
    "print('Diff PCR v. matched RDT strips')\n",
    "ppl = sum([len(Genome_diffs[col].dropna()) for col in ['Bstr','Qstr','inan']])\n",
    "rdt = sum([len(Genome_diffs[col].dropna())*combined[combined.variable==col].Percent.mean() \\\n",
    "           for col in ['Bstr','Qstr','inan']]) / ppl\n",
    "pcr = sum([len(Genome_diffs[col].dropna())*\\\n",
    "           (combined[combined.variable==col].Percent.mean()-Genome_diffs[col].dropna().mean()) \\\n",
    "           for col in ['Bstr','Qstr','inan']]) / ppl\n",
    "print('PCR',pcr)\n",
    "print('RDT',rdt)"
   ]
  },
  {
   "cell_type": "code",
   "execution_count": 53,
   "id": "6a89ebaa",
   "metadata": {},
   "outputs": [
    {
     "name": "stdout",
     "output_type": "stream",
     "text": [
      "Bswab\n",
      "pvalue: 0.078125\n",
      "difference: -0.31155020279857254\n",
      "average % for all of this category: 0.6694837116199521\n",
      "# individuals: 7 \n",
      "\n",
      "Bstr\n",
      "pvalue: 0.5\n",
      "difference: -0.7471992776644484\n",
      "average % for all of this category: 0.22766946460221382\n",
      "# individuals: 2 \n",
      "\n",
      "Qtube\n",
      "pvalue: 1.0\n",
      "difference: -0.06397351436310739\n",
      "average % for all of this category: 0.9298398154031368\n",
      "# individuals: 1 \n",
      "\n",
      "Qstr\n",
      "pvalue: 0.0625\n",
      "difference: -0.3267297595558974\n",
      "average % for all of this category: 0.659973915660636\n",
      "# individuals: 5 \n",
      "\n",
      "inan\n",
      "pvalue: 0.25\n",
      "difference: -0.5077639924645242\n",
      "average % for all of this category: 0.4359651762922338\n",
      "# individuals: 3 \n",
      "\n",
      "All \n",
      "pvalue: 7.62939453125e-05 \n",
      "difference -0.38312023691417063\n"
     ]
    }
   ],
   "source": [
    "for col in Genome_diffs.columns:\n",
    "    print(col)\n",
    "    print('pvalue:',stats.wilcoxon(Genome_diffs[col].dropna()).pvalue)\n",
    "    print('difference:',Genome_diffs[col].dropna().mean())\n",
    "    print('average % for all of this category:',combined[combined.variable==col].Percent.mean())\n",
    "    print('# individuals:',len(Genome_diffs[col].dropna()),'\\n')\n",
    "\n",
    "All = Genome_diffs.values.flatten()\n",
    "print('All','\\npvalue:',stats.wilcoxon(All, nan_policy='omit').pvalue,'\\ndifference',np.nanmean(All))"
   ]
  },
  {
   "cell_type": "code",
   "execution_count": 54,
   "id": "09f35632",
   "metadata": {},
   "outputs": [
    {
     "name": "stdout",
     "output_type": "stream",
     "text": [
      "Strip\n",
      "pvalue: 7.62939453125e-05\n",
      "difference: -11456.444444444445\n",
      "# individuals: 18 \n",
      "\n",
      "Buffer\n",
      "pvalue: 1.0\n",
      "difference: -1913.0000000000002\n",
      "# individuals: 1 \n",
      "\n",
      "Swab\n",
      "pvalue: 0.078125\n",
      "difference: -9316.285714285714\n",
      "# individuals: 7 \n",
      "\n"
     ]
    }
   ],
   "source": [
    "for col in Genome_diffs2.columns:\n",
    "    print(col)\n",
    "    print('pvalue:',stats.wilcoxon(Genome_diffs2[col].dropna()).pvalue)\n",
    "    print('difference:',Genome_diffs2[col].dropna().mean()*LENGTH)\n",
    "    print('# individuals:',len(Genome_diffs2[col].dropna()),'\\n')"
   ]
  },
  {
   "cell_type": "code",
   "execution_count": 55,
   "id": "d2d00ff9",
   "metadata": {},
   "outputs": [
    {
     "name": "stdout",
     "output_type": "stream",
     "text": [
      "SignificanceResult(statistic=inf, pvalue=1.228065916480943e-18)\n",
      "95.06172839506173\n",
      "SignificanceResult(statistic=107.63636363636364, pvalue=4.3140601498624945e-12)\n",
      "85.18518518518519\n"
     ]
    }
   ],
   "source": [
    "#Across sample types, the ability to designate a lineage demonstrated perfect concordance with\n",
    "#genome assembly of at least 70% (Fisher’s p val, Figure 4B) and a concordance of XX% with Ct < 32 \n",
    "#(Fisher’s p val).\n",
    "\n",
    "bin_assembled = np.array(combined.Percent >= .7)\n",
    "bin_lineage   = np.array(['B' in str(c) for c in combined.pango_lineage])\n",
    "bin_Ct32      = np.array(combined.value < 32)\n",
    "\n",
    "# Fisher's test for genome assembly >= / < 70%; v. lineage designated or not\n",
    "ftest_1 = [[sum(bin_assembled & bin_lineage), sum(bin_assembled & ~bin_lineage)],\\\n",
    "          [sum(~bin_assembled & bin_lineage), sum(~bin_assembled & ~bin_lineage)]]\n",
    "print(stats.fisher_exact(ftest_1))\n",
    "print(100*(ftest_1[0][0]+ftest_1[1][1]) / (sum(ftest_1[0])+sum(ftest_1[1])))\n",
    "\n",
    "# Fisher's test for Ct </> 32; v. lineage designated or not\n",
    "ftest_2 = [[sum(bin_Ct32 & bin_lineage), sum(bin_Ct32 & ~bin_lineage)],\\\n",
    "          [sum(~bin_Ct32 & bin_lineage), sum(~bin_Ct32 & ~bin_lineage)]]\n",
    "print(stats.fisher_exact(ftest_2))\n",
    "print(100*(ftest_2[0][0]+ftest_2[1][1]) / (sum(ftest_2[0])+sum(ftest_2[1])))"
   ]
  },
  {
   "cell_type": "markdown",
   "id": "34c1d973",
   "metadata": {
    "heading_collapsed": true
   },
   "source": [
    "# Synthetic comparisons"
   ]
  },
  {
   "cell_type": "markdown",
   "id": "1b2670f0",
   "metadata": {
    "heading_collapsed": true,
    "hidden": true
   },
   "source": [
    "## Set up data tables"
   ]
  },
  {
   "cell_type": "code",
   "execution_count": 57,
   "id": "9e0c6f0b",
   "metadata": {
    "hidden": true,
    "scrolled": true
   },
   "outputs": [],
   "source": [
    "# elution time\n",
    "elution_time = elution.copy()\n",
    "elution_time['Type'] = elution_time['Category'].str.split(pat='(-)',expand=True).iloc[:,2]\n",
    "elution_time['Time'] = elution_time['Category'].str.split(pat='(-)',expand=True).iloc[:,0]\n",
    "elution_time['Ct Mean'] = pd.to_numeric(elution_time['Ct Mean'], errors='coerce').replace(np.nan,40)\n",
    "elution_time.rename(columns={'Time':'variable','Ct Mean':'value'}, inplace=True)"
   ]
  },
  {
   "cell_type": "code",
   "execution_count": 58,
   "id": "9775ab22",
   "metadata": {
    "hidden": true
   },
   "outputs": [],
   "source": [
    "# elution buffer\n",
    "buffer_order = ['AVL','LB','0.5LB','VTM','TE'] # translating from samples s## to what the buffer was\n",
    "buffer_df = PCR_results(buffer)\n",
    "buffer_df = buffer_df[buffer_df['Sample Name'].str.startswith(('s','H2O'))].rename(columns={'CT':'value'})\n",
    "buffer_df['variable'] = ['Water Control' if s=='H2O' else \\\n",
    "                         buffer_order[int(np.floor((int(s[1:])-1)/3))] for s in buffer_df['Sample Name']]"
   ]
  },
  {
   "cell_type": "code",
   "execution_count": 59,
   "id": "618ec4c0",
   "metadata": {
    "hidden": true
   },
   "outputs": [],
   "source": [
    "# rotating or not rotating -- some data points will be for box and whisker, and some just for scatter plots\n",
    "rotation_df = PCR_results(rotation)\n",
    "rot_dict = {\"1hr: Rotation\": rotation_df[rotation_df['Sample Name'].str.contains('HR')]['CT'].values,\n",
    "            \"10m: Rotation\": rotation_df[rotation_df['Sample Name'].str.contains('\\d+R')]['CT'].values,\n",
    "            \"10m: No Rotation\": rotation_df[rotation_df['Sample Name'].str.contains('\\d+R')]['CT'].values}\n",
    "rotation_box = pd.melt(pd.DataFrame.from_dict(rot_dict, orient='index').T)\n",
    "rot_dict.update({\"water\":rotation_df[rotation_df['Sample Name'].str.contains('H2O')].CT.values,\n",
    "                 \"viral seedstock\":rotation_df[rotation_df['Sample Name'].str.contains('POS')].CT.values})\n",
    "rotation_dot = pd.melt(pd.DataFrame.from_dict(rot_dict, orient='index').T).dropna()"
   ]
  },
  {
   "cell_type": "code",
   "execution_count": 60,
   "id": "19ad0645",
   "metadata": {
    "hidden": true
   },
   "outputs": [],
   "source": [
    "# affect of time difference between seeding & extraction\n",
    "seeding_sample = PCR_results(seeding)\n",
    "seeding_sample['Type'] = seeding_sample['Sample Name'].str.split(pat='(_)',expand=True).iloc[:,0]\n",
    "seeding_sample['Day'] = pd.to_numeric([t[-1] for t in seeding_sample.Type], errors='coerce')\n",
    "seeding_sample['variable'] = seeding_sample['Sample Name'].str.split(pat='(_)',expand=True).iloc[:,2]\n",
    "seeding_sample['variable'] = ['Strip' if n in ['1','2','3'] else n for n in seeding_sample.variable]\n",
    "seeding_sample['variable'] = ['Seedstock' if n in ['pos'] else n for n in seeding_sample.variable]\n",
    "seeding_sample = seeding_sample[[x is not None for x in seeding_sample.variable]]"
   ]
  },
  {
   "cell_type": "code",
   "execution_count": 61,
   "id": "67e94b2b",
   "metadata": {
    "hidden": true
   },
   "outputs": [],
   "source": [
    "#Kingfisher v. Column extractions\n",
    "kff = PCR_results(KFFcomp).rename(columns={'CT':'value'})\n",
    "kff[['variable','details']] = kff['Sample Name'].str.split(pat='(_)',expand=True)[[0,2]]\n",
    "kff = kff[[d is not None for d in kff.details]].reset_index(drop=True)\n",
    "for nonsample in ['H2O','Stock']:\n",
    "    kff.loc[kff.details==nonsample,'variable'] = nonsample"
   ]
  },
  {
   "cell_type": "markdown",
   "id": "83fafc99",
   "metadata": {
    "hidden": true
   },
   "source": [
    "## Box and whisker plots"
   ]
  },
  {
   "cell_type": "code",
   "execution_count": 62,
   "id": "1623789a",
   "metadata": {
    "hidden": true
   },
   "outputs": [],
   "source": [
    "sns.set_style(\"white\")"
   ]
  },
  {
   "cell_type": "code",
   "execution_count": 63,
   "id": "7d4c1036",
   "metadata": {
    "hidden": true
   },
   "outputs": [
    {
     "name": "stderr",
     "output_type": "stream",
     "text": [
      "/Users/jsilbert/opt/miniconda3/lib/python3.9/site-packages/statannotations/_Plotter.py:337: UserWarning: Invalid x-position found. Are the same parameters passed to seaborn and statannotations calls? or are there few data points?\n",
      "  warnings.warn(\n",
      "/Users/jsilbert/opt/miniconda3/lib/python3.9/site-packages/statannotations/_Plotter.py:337: UserWarning: Invalid x-position found. Are the same parameters passed to seaborn and statannotations calls? or are there few data points?\n",
      "  warnings.warn(\n",
      "/Users/jsilbert/opt/miniconda3/lib/python3.9/site-packages/statannotations/_Plotter.py:337: UserWarning: Invalid x-position found. Are the same parameters passed to seaborn and statannotations calls? or are there few data points?\n",
      "  warnings.warn(\n"
     ]
    },
    {
     "name": "stdout",
     "output_type": "stream",
     "text": [
      "p-value annotation legend:\n",
      "      ns: p <= 1.00e+00\n",
      "       *: 1.00e-02 < p <= 5.00e-02\n",
      "      **: 1.00e-03 < p <= 1.00e-02\n",
      "     ***: 1.00e-04 < p <= 1.00e-03\n",
      "    ****: p <= 1.00e-04\n",
      "\n",
      "24h vs. 1h: Custom statistical test, P_val:1.905e-01\n",
      "1h vs. 10m: Custom statistical test, P_val:1.190e-01\n",
      "24h vs. 10m: Custom statistical test, P_val:1.000e+00\n"
     ]
    },
    {
     "data": {
      "image/png": "[encoded data removed]",
      "text/plain": [
       "<Figure size 360x360 with 1 Axes>"
      ]
     },
     "metadata": {},
     "output_type": "display_data"
    }
   ],
   "source": [
    "df = elution_time[(elution_time.Type!='tube') & (elution_time.Type!='PosCtrl')]\n",
    "order = ['10m','1h','24h','NTC']\n",
    "\n",
    "f, ax = plt.subplots(1,1,figsize=[5,5])\n",
    "sns.stripplot(data=df, x=\"variable\", y=\"value\", order=order, **args_stripplot)\n",
    "sns.boxplot(x=\"variable\", y=\"value\", data=df, order=order, **args_boxplot)\n",
    "add_n_XX(df,'variable','value',order,ax,offset=.65,max=False)\n",
    "\n",
    "ax.set_ylim([41,19])\n",
    "plt.yticks(np.arange(20,45,5))\n",
    "\n",
    "pairs = [['24h','1h'],['24h','10m'],['1h','10m']]\n",
    "annotator = Annotator(ax, pairs,data=df,x='variable',y='value')\n",
    "annotator.set_pvalues(get_pvalues2(df,pairs))\n",
    "annotator.annotate()\n",
    "df_wilcoxon = save_wilcoxon_variances('Elution Time', df, pairs, df_wilcoxon)\n",
    "\n",
    "ax.set_xlabel('Elution Time', fontsize=12)\n",
    "ax.set_ylabel('Ct Values', fontsize=12)\n",
    "ax.get_legend().remove()\n",
    "\n",
    "save_figure('fig/synthetic_elution_time.svg')"
   ]
  },
  {
   "cell_type": "code",
   "execution_count": 64,
   "id": "b4179c67",
   "metadata": {
    "hidden": true
   },
   "outputs": [
    {
     "name": "stderr",
     "output_type": "stream",
     "text": [
      "/Users/jsilbert/opt/miniconda3/lib/python3.9/site-packages/statannotations/_Plotter.py:337: UserWarning: Invalid x-position found. Are the same parameters passed to seaborn and statannotations calls? or are there few data points?\n",
      "  warnings.warn(\n",
      "/Users/jsilbert/opt/miniconda3/lib/python3.9/site-packages/statannotations/_Plotter.py:337: UserWarning: Invalid x-position found. Are the same parameters passed to seaborn and statannotations calls? or are there few data points?\n",
      "  warnings.warn(\n",
      "/Users/jsilbert/opt/miniconda3/lib/python3.9/site-packages/statannotations/_Plotter.py:337: UserWarning: Invalid x-position found. Are the same parameters passed to seaborn and statannotations calls? or are there few data points?\n",
      "  warnings.warn(\n",
      "/Users/jsilbert/opt/miniconda3/lib/python3.9/site-packages/statannotations/_Plotter.py:337: UserWarning: Invalid x-position found. Are the same parameters passed to seaborn and statannotations calls? or are there few data points?\n",
      "  warnings.warn(\n"
     ]
    },
    {
     "name": "stdout",
     "output_type": "stream",
     "text": [
      "p-value annotation legend:\n",
      "      ns: p <= 1.00e+00\n",
      "       *: 1.00e-02 < p <= 5.00e-02\n",
      "      **: 1.00e-03 < p <= 1.00e-02\n",
      "     ***: 1.00e-04 < p <= 1.00e-03\n",
      "    ****: p <= 1.00e-04\n",
      "\n",
      "TE vs. AVL: Custom statistical test, P_val:4.000e-01\n",
      "AVL vs. VTM: Custom statistical test, P_val:2.000e-01\n",
      "TE vs. VTM: Custom statistical test, P_val:2.000e-01\n"
     ]
    },
    {
     "data": {
      "image/png": "[encoded data removed]",
      "text/plain": [
       "<Figure size 360x360 with 1 Axes>"
      ]
     },
     "metadata": {},
     "output_type": "display_data"
    }
   ],
   "source": [
    "f = plt.figure(figsize=[5,5])\n",
    "\n",
    "order = ['TE','AVL','VTM','LB','0.5LB','Water Control']\n",
    "ax = sns.boxplot(x='variable',y='value',data=buffer_df,order=order,**args_boxplot)\n",
    "sns.stripplot(data= buffer_df,order=order,x=\"variable\", y=\"value\",**args_stripplot)\n",
    "add_n_XX(buffer_df,'variable','value',order,ax,offset=.65,max=False)\n",
    "\n",
    "ax.set_ylim([41,19])\n",
    "plt.yticks(np.arange(20,45,5))\n",
    "\n",
    "pairs = [['TE','AVL'],['TE','VTM'],['AVL','VTM']]\n",
    "annotator = Annotator(ax, pairs,data=buffer_df,order=order,x='variable',y='value')\n",
    "annotator.set_pvalues(get_pvalues2(buffer_df,pairs))\n",
    "annotator.annotate()\n",
    "df_wilcoxon = save_wilcoxon_variances('Buffer type', buffer_df, pairs, df_wilcoxon)\n",
    "\n",
    "plt.xlabel(\"Buffer Type\", fontweight='normal', fontsize=12)\n",
    "plt.ylabel(\"Ct Values\", fontweight='normal', fontsize=12) \n",
    "plt.legend([],[], frameon=False);\n",
    "\n",
    "save_figure('fig/synthetic_buffer_type.svg')"
   ]
  },
  {
   "cell_type": "code",
   "execution_count": 65,
   "id": "0b65fd83",
   "metadata": {
    "hidden": true
   },
   "outputs": [
    {
     "name": "stderr",
     "output_type": "stream",
     "text": [
      "/Users/jsilbert/opt/miniconda3/lib/python3.9/site-packages/statannotations/_Plotter.py:337: UserWarning: Invalid x-position found. Are the same parameters passed to seaborn and statannotations calls? or are there few data points?\n",
      "  warnings.warn(\n"
     ]
    },
    {
     "name": "stdout",
     "output_type": "stream",
     "text": [
      "p-value annotation legend:\n",
      "      ns: p <= 1.00e+00\n",
      "       *: 1.00e-02 < p <= 5.00e-02\n",
      "      **: 1.00e-03 < p <= 1.00e-02\n",
      "     ***: 1.00e-04 < p <= 1.00e-03\n",
      "    ****: p <= 1.00e-04\n",
      "\n",
      "10m: No Rotation vs. 10m: Rotation: Custom statistical test, P_val:1.000e+00\n",
      "10m: Rotation vs. 1hr: Rotation: Custom statistical test, P_val:6.000e-01\n",
      "10m: No Rotation vs. 1hr: Rotation: Custom statistical test, P_val:6.000e-01\n"
     ]
    },
    {
     "data": {
      "image/png": "[encoded data removed]",
      "text/plain": [
       "<Figure size 360x360 with 1 Axes>"
      ]
     },
     "metadata": {},
     "output_type": "display_data"
    }
   ],
   "source": [
    "f = plt.figure(figsize=[5,5])\n",
    "order = ['10m: No Rotation','10m: Rotation','1hr: Rotation','water']\n",
    "ax = sns.boxplot(x='variable',y='value',data=rotation_dot,order=order,**args_boxplot)\n",
    "sns.stripplot(data= rotation_dot,order=order,x=\"variable\", y=\"value\", **args_stripplot)\n",
    "add_n_XX(rotation_dot,'variable','value',order,ax,offset=.65,max=False)\n",
    "\n",
    "ax.set_ylim([41,19])\n",
    "plt.yticks(np.arange(20,45,5))\n",
    "\n",
    "pairs = [[order[0],order[1]],[order[0],order[2]],[order[1],order[2]]]\n",
    "annotator = Annotator(ax, pairs, data=rotation_dot, order=order, x='variable', y='value')\n",
    "annotator.set_pvalues(get_pvalues2(rotation_dot,pairs))\n",
    "annotator.annotate()\n",
    "df_wilcoxon = save_wilcoxon_variances('Rotation', rotation_dot, pairs, df_wilcoxon)\n",
    "\n",
    "ax.set_xticklabels(['10 min\\nNo rotation','10 min\\nRotation','1 hour\\nRotation','Water\\nControl'])\n",
    "\n",
    "plt.xlabel(\"Rotation\", fontweight='normal', fontsize=12,visible=False)\n",
    "plt.ylabel(\"Ct Values\", fontweight='normal', fontsize=12)\n",
    "plt.legend([],[], frameon=False);\n",
    "\n",
    "save_figure('fig/synthetic_rotation.svg')"
   ]
  },
  {
   "cell_type": "code",
   "execution_count": 66,
   "id": "abecc1af",
   "metadata": {
    "hidden": true
   },
   "outputs": [
    {
     "name": "stderr",
     "output_type": "stream",
     "text": [
      "/Users/jsilbert/opt/miniconda3/lib/python3.9/site-packages/statannotations/_Plotter.py:337: UserWarning: Invalid x-position found. Are the same parameters passed to seaborn and statannotations calls? or are there few data points?\n",
      "  warnings.warn(\n",
      "/Users/jsilbert/opt/miniconda3/lib/python3.9/site-packages/statannotations/_Plotter.py:337: UserWarning: Invalid x-position found. Are the same parameters passed to seaborn and statannotations calls? or are there few data points?\n",
      "  warnings.warn(\n"
     ]
    },
    {
     "name": "stdout",
     "output_type": "stream",
     "text": [
      "p-value annotation legend:\n",
      "      ns: p <= 1.00e+00\n",
      "       *: 1.00e-02 < p <= 5.00e-02\n",
      "      **: 1.00e-03 < p <= 1.00e-02\n",
      "     ***: 1.00e-04 < p <= 1.00e-03\n",
      "    ****: p <= 1.00e-04\n",
      "\n",
      "ColumnExtract vs. KFFfromAVL: Custom statistical test, P_val:2.000e-01\n",
      "KFFfromAVL vs. KFFwithKFFBuffer: Custom statistical test, P_val:4.000e-01\n",
      "ColumnExtract vs. KFFwithKFFBuffer: Custom statistical test, P_val:2.000e-01\n",
      "diff in ct: -2.040767166666665\n"
     ]
    },
    {
     "name": "stderr",
     "output_type": "stream",
     "text": [
      "<ipython-input-66-a0dce91774fd>:22: FutureWarning: Dropping of nuisance columns in DataFrame reductions (with 'numeric_only=None') is deprecated; in a future version this will raise TypeError.  Select only valid columns before calling the reduction.\n",
      "  ct_diff = (kff[kff.variable=='KFFfromAVL'].mean()+kff[kff.variable=='KFFwithKFFBuffer'].mean())/2\n"
     ]
    },
    {
     "data": {
      "image/png": "[encoded data removed]",
      "text/plain": [
       "<Figure size 360x360 with 1 Axes>"
      ]
     },
     "metadata": {},
     "output_type": "display_data"
    }
   ],
   "source": [
    "f = plt.figure(figsize=[5,5])\n",
    "order = ['ColumnExtract','KFFfromAVL', 'KFFwithKFFBuffer','H2O']\n",
    "\n",
    "ax = sns.stripplot(data=kff, x=\"variable\", y=\"value\", order=order, **args_stripplot)\n",
    "sns.boxplot(x=\"variable\", y=\"value\", data=kff, order=order, **args_boxplot)\n",
    "add_n_XX(kff,'variable','value',order,ax,offset=.65,max=False)\n",
    "\n",
    "ax.set_ylim([41,19])\n",
    "plt.yticks(np.arange(20,45,5))\n",
    "\n",
    "pairs = [['ColumnExtract','KFFfromAVL'],['ColumnExtract','KFFwithKFFBuffer'],['KFFfromAVL','KFFwithKFFBuffer']]\n",
    "annotator = Annotator(ax, pairs,data=kff,order=order,x='variable',y='value')\n",
    "annotator.set_pvalues(get_pvalues2(kff,pairs))\n",
    "annotator.annotate()\n",
    "df_wilcoxon = save_wilcoxon_variances('KFF', kff, pairs, df_wilcoxon)\n",
    "\n",
    "ax.set_xlabel('Extraction Method', fontsize=12)\n",
    "ax.set_xticklabels(['Manual','Automatic\\n(AVL Buffer)','Automatic\\n(KFF Buffer)','Water Control'])\n",
    "ax.set_ylabel('Ct Values', fontsize=12)\n",
    "ax.get_legend().remove()\n",
    "\n",
    "ct_diff = (kff[kff.variable=='KFFfromAVL'].mean()+kff[kff.variable=='KFFwithKFFBuffer'].mean())/2\n",
    "ct_diff = (kff[kff.variable=='ColumnExtract'].value.mean()-ct_diff).value\n",
    "print('diff in ct:',ct_diff)\n",
    "\n",
    "save_figure('fig/synthetic_extraction_method.svg')"
   ]
  },
  {
   "cell_type": "markdown",
   "id": "a2a652d7",
   "metadata": {
    "hidden": true
   },
   "source": [
    "## Linear regression"
   ]
  },
  {
   "cell_type": "code",
   "execution_count": 67,
   "id": "3b1e52ac",
   "metadata": {
    "hidden": true
   },
   "outputs": [],
   "source": [
    "sns.set_style(\"white\")"
   ]
  },
  {
   "cell_type": "code",
   "execution_count": 68,
   "id": "d3193168",
   "metadata": {
    "hidden": true
   },
   "outputs": [
    {
     "name": "stdout",
     "output_type": "stream",
     "text": [
      "Linregress Results for Strips:\n",
      "slope = -0.06 \n",
      "CI = -0.23 to 0.10 \n",
      "p = 0.4463694111099027\n",
      "\n",
      "Linregress Results for Seedstock:\n",
      "slope = 0.33 \n",
      "CI = 0.07 to 0.58 \n",
      "p = 0.047916512267600554\n",
      "\n"
     ]
    },
    {
     "data": {
      "image/png": "[encoded data removed]",
      "text/plain": [
       "<Figure size 720x360 with 1 Axes>"
      ]
     },
     "metadata": {},
     "output_type": "display_data"
    }
   ],
   "source": [
    "plt.figure(figsize=[10,5])\n",
    "\n",
    "ax = sns.swarmplot(data=seeding_sample[seeding_sample.variable!='Ctrl'], x=\"Day\", y=\"CT\",**args_scatterplot_2x)\n",
    "sns.regplot(x='Day', y= 'CT', data=seeding_sample[seeding_sample.variable=='Strip'],\\\n",
    "            scatter=False,truncate=False, line_kws = {'color':'grey'})\n",
    "sns.regplot(x='Day', y= 'CT', data=seeding_sample[seeding_sample.variable=='Seedstock'],\\\n",
    "            scatter=False,truncate=False, line_kws = {'color':'black'})\n",
    "\n",
    "ax.invert_yaxis()\n",
    "\n",
    "plt.xlabel(\"Days left at Room Temperature\", fontweight='normal', fontsize=12)\n",
    "plt.ylabel(\"Ct Values\", fontweight='normal', fontsize=12) \n",
    "\n",
    "ax.set_ylim([43,17])\n",
    "\n",
    "handles, labels = ax.get_legend_handles_labels()\n",
    "ax.legend(handles=handles[0:], labels=['Synthetic RDT Strip','Seedstock']);\n",
    "\n",
    "#stats\n",
    "slope95CI(seeding_sample[seeding_sample.variable=='Strip']['Day'],\\\n",
    "          seeding_sample[seeding_sample.variable=='Strip']['CT'],'Strips')\n",
    "slope95CI(seeding_sample[seeding_sample.variable=='Seedstock']['Day'],\\\n",
    "          seeding_sample[seeding_sample.variable=='Seedstock']['CT'],'Seedstock')\n",
    "\n",
    "save_figure('fig/synthetic_days_at_room_temp.svg')"
   ]
  },
  {
   "cell_type": "markdown",
   "id": "db14a35a",
   "metadata": {
    "heading_collapsed": true
   },
   "source": [
    "# Wilcoxon variances"
   ]
  },
  {
   "cell_type": "code",
   "execution_count": 69,
   "id": "cc3ad702",
   "metadata": {
    "hidden": true
   },
   "outputs": [],
   "source": [
    "df_wilcoxon['F test statistic'] = df_wilcoxon['Variance (1)']**2 / df_wilcoxon['Variance (2)']**2\n",
    "df_wilcoxon['F test statistic'] = [a if a>1 else 1/a for a in df_wilcoxon['F test statistic']]\n",
    "df_wilcoxon['p value'] = [1-stats.f.cdf(df_wilcoxon['F test statistic'].loc[i], \\\n",
    "                                        df_wilcoxon['Group Size (1)'].loc[i]-1,\\\n",
    "                                        df_wilcoxon['Group Size (2)'].loc[i]-1) for i in range(len(df_wilcoxon))]\n",
    "df_wilcoxon['Similar variances?'] = [p>.05 for p in df_wilcoxon['p value']]"
   ]
  },
  {
   "cell_type": "code",
   "execution_count": 70,
   "id": "71ee8663",
   "metadata": {
    "hidden": true
   },
   "outputs": [
    {
     "data": {
      "text/html": [
       "<div>\n",
       "<style scoped>\n",
       "    .dataframe tbody tr th:only-of-type {\n",
       "        vertical-align: middle;\n",
       "    }\n",
       "\n",
       "    .dataframe tbody tr th {\n",
       "        vertical-align: top;\n",
       "    }\n",
       "\n",
       "    .dataframe thead th {\n",
       "        text-align: right;\n",
       "    }\n",
       "</style>\n",
       "<table border=\"1\" class=\"dataframe\">\n",
       "  <thead>\n",
       "    <tr style=\"text-align: right;\">\n",
       "      <th></th>\n",
       "      <th>Comparison</th>\n",
       "      <th>Group 1</th>\n",
       "      <th>Group Size (1)</th>\n",
       "      <th>Variance (1)</th>\n",
       "      <th>Group 2</th>\n",
       "      <th>Group Size (2)</th>\n",
       "      <th>Variance (2)</th>\n",
       "      <th>F test statistic</th>\n",
       "      <th>p value</th>\n",
       "      <th>Similar variances?</th>\n",
       "    </tr>\n",
       "  </thead>\n",
       "  <tbody>\n",
       "    <tr>\n",
       "      <th>0</th>\n",
       "      <td>Ct Difference from PCR</td>\n",
       "      <td>iHealth</td>\n",
       "      <td>6</td>\n",
       "      <td>16.446366</td>\n",
       "      <td>Binax</td>\n",
       "      <td>9</td>\n",
       "      <td>11.706935</td>\n",
       "      <td>1.973574</td>\n",
       "      <td>0.187339</td>\n",
       "      <td>True</td>\n",
       "    </tr>\n",
       "    <tr>\n",
       "      <th>1</th>\n",
       "      <td>Ct Difference from PCR</td>\n",
       "      <td>iHealth</td>\n",
       "      <td>6</td>\n",
       "      <td>16.446366</td>\n",
       "      <td>Quickvue</td>\n",
       "      <td>8</td>\n",
       "      <td>19.207736</td>\n",
       "      <td>1.363994</td>\n",
       "      <td>0.341363</td>\n",
       "      <td>True</td>\n",
       "    </tr>\n",
       "    <tr>\n",
       "      <th>2</th>\n",
       "      <td>Ct Difference from PCR</td>\n",
       "      <td>Binax</td>\n",
       "      <td>9</td>\n",
       "      <td>11.706935</td>\n",
       "      <td>Quickvue</td>\n",
       "      <td>8</td>\n",
       "      <td>19.207736</td>\n",
       "      <td>2.691944</td>\n",
       "      <td>0.104789</td>\n",
       "      <td>True</td>\n",
       "    </tr>\n",
       "    <tr>\n",
       "      <th>3</th>\n",
       "      <td>Test Order</td>\n",
       "      <td>First</td>\n",
       "      <td>11</td>\n",
       "      <td>25.835558</td>\n",
       "      <td>Second</td>\n",
       "      <td>11</td>\n",
       "      <td>21.297348</td>\n",
       "      <td>1.471583</td>\n",
       "      <td>0.276253</td>\n",
       "      <td>True</td>\n",
       "    </tr>\n",
       "    <tr>\n",
       "      <th>4</th>\n",
       "      <td>Ct Values</td>\n",
       "      <td>Bstr</td>\n",
       "      <td>9</td>\n",
       "      <td>25.648745</td>\n",
       "      <td>Bswab</td>\n",
       "      <td>9</td>\n",
       "      <td>38.943385</td>\n",
       "      <td>2.305341</td>\n",
       "      <td>0.129354</td>\n",
       "      <td>True</td>\n",
       "    </tr>\n",
       "    <tr>\n",
       "      <th>5</th>\n",
       "      <td>Ct Values</td>\n",
       "      <td>Buffer</td>\n",
       "      <td>10</td>\n",
       "      <td>3.893900</td>\n",
       "      <td>Strip</td>\n",
       "      <td>10</td>\n",
       "      <td>8.843487</td>\n",
       "      <td>5.157955</td>\n",
       "      <td>0.011308</td>\n",
       "      <td>False</td>\n",
       "    </tr>\n",
       "    <tr>\n",
       "      <th>6</th>\n",
       "      <td>Ct Values</td>\n",
       "      <td>Buffer</td>\n",
       "      <td>10</td>\n",
       "      <td>3.893900</td>\n",
       "      <td>Swab</td>\n",
       "      <td>10</td>\n",
       "      <td>12.953915</td>\n",
       "      <td>11.067067</td>\n",
       "      <td>0.000704</td>\n",
       "      <td>False</td>\n",
       "    </tr>\n",
       "    <tr>\n",
       "      <th>7</th>\n",
       "      <td>Ct Values</td>\n",
       "      <td>Swab</td>\n",
       "      <td>10</td>\n",
       "      <td>12.953915</td>\n",
       "      <td>Strip</td>\n",
       "      <td>10</td>\n",
       "      <td>8.843487</td>\n",
       "      <td>2.145631</td>\n",
       "      <td>0.135421</td>\n",
       "      <td>True</td>\n",
       "    </tr>\n",
       "    <tr>\n",
       "      <th>8</th>\n",
       "      <td>Ct Values</td>\n",
       "      <td>Qstr</td>\n",
       "      <td>6</td>\n",
       "      <td>29.252368</td>\n",
       "      <td>Qtube</td>\n",
       "      <td>6</td>\n",
       "      <td>13.811937</td>\n",
       "      <td>4.485521</td>\n",
       "      <td>0.062574</td>\n",
       "      <td>True</td>\n",
       "    </tr>\n",
       "    <tr>\n",
       "      <th>9</th>\n",
       "      <td>Elution Time</td>\n",
       "      <td>24h</td>\n",
       "      <td>5</td>\n",
       "      <td>0.196841</td>\n",
       "      <td>1h</td>\n",
       "      <td>5</td>\n",
       "      <td>1.775235</td>\n",
       "      <td>81.335582</td>\n",
       "      <td>0.000439</td>\n",
       "      <td>False</td>\n",
       "    </tr>\n",
       "    <tr>\n",
       "      <th>10</th>\n",
       "      <td>Elution Time</td>\n",
       "      <td>24h</td>\n",
       "      <td>5</td>\n",
       "      <td>0.196841</td>\n",
       "      <td>10m</td>\n",
       "      <td>5</td>\n",
       "      <td>0.632499</td>\n",
       "      <td>10.324954</td>\n",
       "      <td>0.022014</td>\n",
       "      <td>False</td>\n",
       "    </tr>\n",
       "    <tr>\n",
       "      <th>11</th>\n",
       "      <td>Elution Time</td>\n",
       "      <td>1h</td>\n",
       "      <td>5</td>\n",
       "      <td>1.775235</td>\n",
       "      <td>10m</td>\n",
       "      <td>5</td>\n",
       "      <td>0.632499</td>\n",
       "      <td>7.877573</td>\n",
       "      <td>0.035207</td>\n",
       "      <td>False</td>\n",
       "    </tr>\n",
       "    <tr>\n",
       "      <th>12</th>\n",
       "      <td>Buffer type</td>\n",
       "      <td>TE</td>\n",
       "      <td>3</td>\n",
       "      <td>0.037313</td>\n",
       "      <td>AVL</td>\n",
       "      <td>3</td>\n",
       "      <td>0.430924</td>\n",
       "      <td>133.379546</td>\n",
       "      <td>0.007442</td>\n",
       "      <td>False</td>\n",
       "    </tr>\n",
       "    <tr>\n",
       "      <th>13</th>\n",
       "      <td>Buffer type</td>\n",
       "      <td>TE</td>\n",
       "      <td>3</td>\n",
       "      <td>0.037313</td>\n",
       "      <td>VTM</td>\n",
       "      <td>3</td>\n",
       "      <td>5.777930</td>\n",
       "      <td>23979.051498</td>\n",
       "      <td>0.000042</td>\n",
       "      <td>False</td>\n",
       "    </tr>\n",
       "    <tr>\n",
       "      <th>14</th>\n",
       "      <td>Buffer type</td>\n",
       "      <td>AVL</td>\n",
       "      <td>3</td>\n",
       "      <td>0.430924</td>\n",
       "      <td>VTM</td>\n",
       "      <td>3</td>\n",
       "      <td>5.777930</td>\n",
       "      <td>179.780575</td>\n",
       "      <td>0.005532</td>\n",
       "      <td>False</td>\n",
       "    </tr>\n",
       "    <tr>\n",
       "      <th>15</th>\n",
       "      <td>Rotation</td>\n",
       "      <td>10m: No Rotation</td>\n",
       "      <td>3</td>\n",
       "      <td>0.049708</td>\n",
       "      <td>10m: Rotation</td>\n",
       "      <td>3</td>\n",
       "      <td>0.049708</td>\n",
       "      <td>1.000000</td>\n",
       "      <td>0.500000</td>\n",
       "      <td>True</td>\n",
       "    </tr>\n",
       "    <tr>\n",
       "      <th>16</th>\n",
       "      <td>Rotation</td>\n",
       "      <td>10m: No Rotation</td>\n",
       "      <td>3</td>\n",
       "      <td>0.049708</td>\n",
       "      <td>1hr: Rotation</td>\n",
       "      <td>3</td>\n",
       "      <td>0.174397</td>\n",
       "      <td>12.309037</td>\n",
       "      <td>0.075137</td>\n",
       "      <td>True</td>\n",
       "    </tr>\n",
       "    <tr>\n",
       "      <th>17</th>\n",
       "      <td>Rotation</td>\n",
       "      <td>10m: Rotation</td>\n",
       "      <td>3</td>\n",
       "      <td>0.049708</td>\n",
       "      <td>1hr: Rotation</td>\n",
       "      <td>3</td>\n",
       "      <td>0.174397</td>\n",
       "      <td>12.309037</td>\n",
       "      <td>0.075137</td>\n",
       "      <td>True</td>\n",
       "    </tr>\n",
       "    <tr>\n",
       "      <th>18</th>\n",
       "      <td>KFF</td>\n",
       "      <td>ColumnExtract</td>\n",
       "      <td>3</td>\n",
       "      <td>0.027340</td>\n",
       "      <td>KFFfromAVL</td>\n",
       "      <td>3</td>\n",
       "      <td>0.352913</td>\n",
       "      <td>166.623711</td>\n",
       "      <td>0.005966</td>\n",
       "      <td>False</td>\n",
       "    </tr>\n",
       "    <tr>\n",
       "      <th>19</th>\n",
       "      <td>KFF</td>\n",
       "      <td>ColumnExtract</td>\n",
       "      <td>3</td>\n",
       "      <td>0.027340</td>\n",
       "      <td>KFFwithKFFBuffer</td>\n",
       "      <td>3</td>\n",
       "      <td>0.256717</td>\n",
       "      <td>88.168196</td>\n",
       "      <td>0.011215</td>\n",
       "      <td>False</td>\n",
       "    </tr>\n",
       "    <tr>\n",
       "      <th>20</th>\n",
       "      <td>KFF</td>\n",
       "      <td>KFFfromAVL</td>\n",
       "      <td>3</td>\n",
       "      <td>0.352913</td>\n",
       "      <td>KFFwithKFFBuffer</td>\n",
       "      <td>3</td>\n",
       "      <td>0.256717</td>\n",
       "      <td>1.889839</td>\n",
       "      <td>0.346040</td>\n",
       "      <td>True</td>\n",
       "    </tr>\n",
       "  </tbody>\n",
       "</table>\n",
       "</div>"
      ],
      "text/plain": [
       "                Comparison           Group 1 Group Size (1)  Variance (1)  \\\n",
       "0   Ct Difference from PCR           iHealth              6     16.446366   \n",
       "1   Ct Difference from PCR           iHealth              6     16.446366   \n",
       "2   Ct Difference from PCR             Binax              9     11.706935   \n",
       "3               Test Order             First             11     25.835558   \n",
       "4                Ct Values              Bstr              9     25.648745   \n",
       "5                Ct Values            Buffer             10      3.893900   \n",
       "6                Ct Values            Buffer             10      3.893900   \n",
       "7                Ct Values              Swab             10     12.953915   \n",
       "8                Ct Values              Qstr              6     29.252368   \n",
       "9             Elution Time               24h              5      0.196841   \n",
       "10            Elution Time               24h              5      0.196841   \n",
       "11            Elution Time                1h              5      1.775235   \n",
       "12             Buffer type                TE              3      0.037313   \n",
       "13             Buffer type                TE              3      0.037313   \n",
       "14             Buffer type               AVL              3      0.430924   \n",
       "15                Rotation  10m: No Rotation              3      0.049708   \n",
       "16                Rotation  10m: No Rotation              3      0.049708   \n",
       "17                Rotation     10m: Rotation              3      0.049708   \n",
       "18                     KFF     ColumnExtract              3      0.027340   \n",
       "19                     KFF     ColumnExtract              3      0.027340   \n",
       "20                     KFF        KFFfromAVL              3      0.352913   \n",
       "\n",
       "             Group 2 Group Size (2)  Variance (2)  F test statistic   p value  \\\n",
       "0              Binax              9     11.706935          1.973574  0.187339   \n",
       "1           Quickvue              8     19.207736          1.363994  0.341363   \n",
       "2           Quickvue              8     19.207736          2.691944  0.104789   \n",
       "3             Second             11     21.297348          1.471583  0.276253   \n",
       "4              Bswab              9     38.943385          2.305341  0.129354   \n",
       "5              Strip             10      8.843487          5.157955  0.011308   \n",
       "6               Swab             10     12.953915         11.067067  0.000704   \n",
       "7              Strip             10      8.843487          2.145631  0.135421   \n",
       "8              Qtube              6     13.811937          4.485521  0.062574   \n",
       "9                 1h              5      1.775235         81.335582  0.000439   \n",
       "10               10m              5      0.632499         10.324954  0.022014   \n",
       "11               10m              5      0.632499          7.877573  0.035207   \n",
       "12               AVL              3      0.430924        133.379546  0.007442   \n",
       "13               VTM              3      5.777930      23979.051498  0.000042   \n",
       "14               VTM              3      5.777930        179.780575  0.005532   \n",
       "15     10m: Rotation              3      0.049708          1.000000  0.500000   \n",
       "16     1hr: Rotation              3      0.174397         12.309037  0.075137   \n",
       "17     1hr: Rotation              3      0.174397         12.309037  0.075137   \n",
       "18        KFFfromAVL              3      0.352913        166.623711  0.005966   \n",
       "19  KFFwithKFFBuffer              3      0.256717         88.168196  0.011215   \n",
       "20  KFFwithKFFBuffer              3      0.256717          1.889839  0.346040   \n",
       "\n",
       "    Similar variances?  \n",
       "0                 True  \n",
       "1                 True  \n",
       "2                 True  \n",
       "3                 True  \n",
       "4                 True  \n",
       "5                False  \n",
       "6                False  \n",
       "7                 True  \n",
       "8                 True  \n",
       "9                False  \n",
       "10               False  \n",
       "11               False  \n",
       "12               False  \n",
       "13               False  \n",
       "14               False  \n",
       "15                True  \n",
       "16                True  \n",
       "17                True  \n",
       "18               False  \n",
       "19               False  \n",
       "20                True  "
      ]
     },
     "execution_count": 70,
     "metadata": {},
     "output_type": "execute_result"
    }
   ],
   "source": [
    "df_wilcoxon"
   ]
  },
  {
   "cell_type": "code",
   "execution_count": 71,
   "id": "c33baa3f",
   "metadata": {
    "hidden": true
   },
   "outputs": [
    {
     "name": "stdout",
     "output_type": "stream",
     "text": [
      "11 suitable for ranksums, out of 21\n"
     ]
    }
   ],
   "source": [
    "print(df_wilcoxon['Similar variances?'].sum(),'suitable for ranksums, out of',len(df_wilcoxon))"
   ]
  },
  {
   "cell_type": "code",
   "execution_count": null,
   "id": "97aaec78",
   "metadata": {
    "hidden": true
   },
   "outputs": [],
   "source": []
  }
 ],
 "metadata": {
  "kernelspec": {
   "display_name": "Python 3",
   "language": "python",
   "name": "python3"
  },
  "language_info": {
   "codemirror_mode": {
    "name": "ipython",
    "version": 3
   },
   "file_extension": ".py",
   "mimetype": "text/x-python",
   "name": "python",
   "nbconvert_exporter": "python",
   "pygments_lexer": "ipython3",
   "version": "3.9.5"
  },
  "toc": {
   "base_numbering": 1,
   "nav_menu": {},
   "number_sections": true,
   "sideBar": true,
   "skip_h1_title": false,
   "title_cell": "Table of Contents",
   "title_sidebar": "Contents",
   "toc_cell": false,
   "toc_position": {
    "height": "calc(100% - 180px)",
    "left": "10px",
    "top": "150px",
    "width": "165px"
   },
   "toc_section_display": true,
   "toc_window_display": true
  }
 },
 "nbformat": 4,
 "nbformat_minor": 5
}
